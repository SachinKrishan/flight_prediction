{
  "nbformat": 4,
  "nbformat_minor": 0,
  "metadata": {
    "colab": {
      "name": "flight_m2.ipynb",
      "provenance": [],
      "collapsed_sections": [],
      "machine_shape": "hm"
    },
    "kernelspec": {
      "name": "python3",
      "display_name": "Python 3"
    }
  },
  "cells": [
    {
      "cell_type": "code",
      "metadata": {
        "id": "1RUvdzA890DZ",
        "colab_type": "code",
        "outputId": "58455a68-4442-4bbf-fc5b-b80d00b8d80b",
        "colab": {
          "base_uri": "https://localhost:8080/",
          "height": 124
        }
      },
      "source": [
        "import pandas as pd\n",
        "import json\n",
        "from pandas.io.json import json_normalize  \n",
        "from google.colab import drive\n",
        "import datetime\n",
        "drive.mount('/content/gdrive/',force_remount = True)"
      ],
      "execution_count": 0,
      "outputs": [
        {
          "output_type": "stream",
          "text": [
            "Go to this URL in a browser: https://accounts.google.com/o/oauth2/auth?client_id=947318989803-6bn6qk8qdgf4n4g3pfee6491hc0brc4i.apps.googleusercontent.com&redirect_uri=urn%3aietf%3awg%3aoauth%3a2.0%3aoob&response_type=code&scope=email%20https%3a%2f%2fwww.googleapis.com%2fauth%2fdocs.test%20https%3a%2f%2fwww.googleapis.com%2fauth%2fdrive%20https%3a%2f%2fwww.googleapis.com%2fauth%2fdrive.photos.readonly%20https%3a%2f%2fwww.googleapis.com%2fauth%2fpeopleapi.readonly\n",
            "\n",
            "Enter your authorization code:\n",
            "··········\n",
            "Mounted at /content/gdrive/\n"
          ],
          "name": "stdout"
        }
      ]
    },
    {
      "cell_type": "code",
      "metadata": {
        "id": "yD832oWbD6RL",
        "colab_type": "code",
        "colab": {}
      },
      "source": [
        "import numpy as np\n",
        "from sklearn.model_selection import train_test_split\n",
        "from sklearn.linear_model import LinearRegression\n",
        "from sklearn import metrics\n",
        "from sklearn.ensemble import RandomForestRegressor\n",
        "from sklearn.svm import SVR\n"
      ],
      "execution_count": 0,
      "outputs": []
    },
    {
      "cell_type": "code",
      "metadata": {
        "id": "tuQtKwjxA4dw",
        "colab_type": "code",
        "colab": {}
      },
      "source": [
        "df = pd.read_csv(\"gdrive/My Drive/Colab Notebooks/merged.csv\")"
      ],
      "execution_count": 0,
      "outputs": []
    },
    {
      "cell_type": "code",
      "metadata": {
        "id": "sgMApNtgCfJW",
        "colab_type": "code",
        "outputId": "f6cea34f-9eae-42d5-97c8-da446f9741a5",
        "colab": {
          "base_uri": "https://localhost:8080/",
          "height": 243
        }
      },
      "source": [
        "df.tail()"
      ],
      "execution_count": 0,
      "outputs": [
        {
          "output_type": "execute_result",
          "data": {
            "text/html": [
              "<div>\n",
              "<style scoped>\n",
              "    .dataframe tbody tr th:only-of-type {\n",
              "        vertical-align: middle;\n",
              "    }\n",
              "\n",
              "    .dataframe tbody tr th {\n",
              "        vertical-align: top;\n",
              "    }\n",
              "\n",
              "    .dataframe thead th {\n",
              "        text-align: right;\n",
              "    }\n",
              "</style>\n",
              "<table border=\"1\" class=\"dataframe\">\n",
              "  <thead>\n",
              "    <tr style=\"text-align: right;\">\n",
              "      <th></th>\n",
              "      <th>Unnamed: 0</th>\n",
              "      <th>windspeedKmph_A</th>\n",
              "      <th>DewPointC_A</th>\n",
              "      <th>cloudcover_A</th>\n",
              "      <th>precipMM_A</th>\n",
              "      <th>pressure_A</th>\n",
              "      <th>WindGustKmph_A</th>\n",
              "      <th>visibility_A</th>\n",
              "      <th>tempC_A</th>\n",
              "      <th>WindChillC_A</th>\n",
              "      <th>winddirDegree_A</th>\n",
              "      <th>humidity_A</th>\n",
              "      <th>date_A</th>\n",
              "      <th>airport_A</th>\n",
              "      <th>itime_A</th>\n",
              "      <th>windspeedKmph_D</th>\n",
              "      <th>DewPointC_D</th>\n",
              "      <th>cloudcover_D</th>\n",
              "      <th>precipMM_D</th>\n",
              "      <th>pressure_D</th>\n",
              "      <th>WindGustKmph_D</th>\n",
              "      <th>visibility_D</th>\n",
              "      <th>tempC_D</th>\n",
              "      <th>WindChillC_D</th>\n",
              "      <th>winddirDegree_D</th>\n",
              "      <th>humidity_D</th>\n",
              "      <th>date_D</th>\n",
              "      <th>airport_D</th>\n",
              "      <th>itime_D</th>\n",
              "      <th>Year</th>\n",
              "      <th>Quarter</th>\n",
              "      <th>Month</th>\n",
              "      <th>DayofMonth</th>\n",
              "      <th>FlightDate</th>\n",
              "      <th>Origin</th>\n",
              "      <th>Dest</th>\n",
              "      <th>CRSDepTime</th>\n",
              "      <th>DepTime</th>\n",
              "      <th>DepDelayMinutes</th>\n",
              "      <th>DepDel15</th>\n",
              "      <th>CRSArrTime</th>\n",
              "      <th>ArrTime</th>\n",
              "      <th>ArrDelayMinutes</th>\n",
              "      <th>ArrDel15</th>\n",
              "      <th>round_Dtime</th>\n",
              "      <th>round_Atime</th>\n",
              "      <th>A_date</th>\n",
              "    </tr>\n",
              "  </thead>\n",
              "  <tbody>\n",
              "    <tr>\n",
              "      <th>1780885</th>\n",
              "      <td>4980150</td>\n",
              "      <td>2</td>\n",
              "      <td>11</td>\n",
              "      <td>79</td>\n",
              "      <td>0.0</td>\n",
              "      <td>1020</td>\n",
              "      <td>4</td>\n",
              "      <td>10</td>\n",
              "      <td>11</td>\n",
              "      <td>11</td>\n",
              "      <td>194</td>\n",
              "      <td>97</td>\n",
              "      <td>2017-12-31</td>\n",
              "      <td>SFO</td>\n",
              "      <td>2300.0</td>\n",
              "      <td>18</td>\n",
              "      <td>-19</td>\n",
              "      <td>12</td>\n",
              "      <td>0.0</td>\n",
              "      <td>1026</td>\n",
              "      <td>21</td>\n",
              "      <td>10</td>\n",
              "      <td>-10</td>\n",
              "      <td>-18</td>\n",
              "      <td>320</td>\n",
              "      <td>48</td>\n",
              "      <td>2017-12-31</td>\n",
              "      <td>EWR</td>\n",
              "      <td>1900.0</td>\n",
              "      <td>2017</td>\n",
              "      <td>4</td>\n",
              "      <td>12</td>\n",
              "      <td>31</td>\n",
              "      <td>2017-12-31</td>\n",
              "      <td>EWR</td>\n",
              "      <td>SFO</td>\n",
              "      <td>1920</td>\n",
              "      <td>1931.0</td>\n",
              "      <td>11.0</td>\n",
              "      <td>0.0</td>\n",
              "      <td>2253</td>\n",
              "      <td>2258.0</td>\n",
              "      <td>5.0</td>\n",
              "      <td>0.0</td>\n",
              "      <td>1900</td>\n",
              "      <td>2300</td>\n",
              "      <td>2017-12-31</td>\n",
              "    </tr>\n",
              "    <tr>\n",
              "      <th>1780886</th>\n",
              "      <td>4980151</td>\n",
              "      <td>2</td>\n",
              "      <td>11</td>\n",
              "      <td>79</td>\n",
              "      <td>0.0</td>\n",
              "      <td>1020</td>\n",
              "      <td>4</td>\n",
              "      <td>10</td>\n",
              "      <td>11</td>\n",
              "      <td>11</td>\n",
              "      <td>194</td>\n",
              "      <td>97</td>\n",
              "      <td>2017-12-31</td>\n",
              "      <td>SFO</td>\n",
              "      <td>2300.0</td>\n",
              "      <td>25</td>\n",
              "      <td>-18</td>\n",
              "      <td>31</td>\n",
              "      <td>0.0</td>\n",
              "      <td>1026</td>\n",
              "      <td>31</td>\n",
              "      <td>10</td>\n",
              "      <td>-10</td>\n",
              "      <td>-19</td>\n",
              "      <td>319</td>\n",
              "      <td>56</td>\n",
              "      <td>2017-12-31</td>\n",
              "      <td>JFK</td>\n",
              "      <td>1900.0</td>\n",
              "      <td>2017</td>\n",
              "      <td>4</td>\n",
              "      <td>12</td>\n",
              "      <td>31</td>\n",
              "      <td>2017-12-31</td>\n",
              "      <td>JFK</td>\n",
              "      <td>SFO</td>\n",
              "      <td>1925</td>\n",
              "      <td>2055.0</td>\n",
              "      <td>90.0</td>\n",
              "      <td>1.0</td>\n",
              "      <td>2326</td>\n",
              "      <td>16.0</td>\n",
              "      <td>50.0</td>\n",
              "      <td>1.0</td>\n",
              "      <td>1900</td>\n",
              "      <td>2300</td>\n",
              "      <td>2017-12-31</td>\n",
              "    </tr>\n",
              "    <tr>\n",
              "      <th>1780887</th>\n",
              "      <td>4980152</td>\n",
              "      <td>2</td>\n",
              "      <td>11</td>\n",
              "      <td>79</td>\n",
              "      <td>0.0</td>\n",
              "      <td>1020</td>\n",
              "      <td>4</td>\n",
              "      <td>10</td>\n",
              "      <td>11</td>\n",
              "      <td>11</td>\n",
              "      <td>194</td>\n",
              "      <td>97</td>\n",
              "      <td>2017-12-31</td>\n",
              "      <td>SFO</td>\n",
              "      <td>2300.0</td>\n",
              "      <td>4</td>\n",
              "      <td>15</td>\n",
              "      <td>26</td>\n",
              "      <td>0.0</td>\n",
              "      <td>1021</td>\n",
              "      <td>16</td>\n",
              "      <td>10</td>\n",
              "      <td>20</td>\n",
              "      <td>20</td>\n",
              "      <td>118</td>\n",
              "      <td>74</td>\n",
              "      <td>2017-12-31</td>\n",
              "      <td>MIA</td>\n",
              "      <td>2000.0</td>\n",
              "      <td>2017</td>\n",
              "      <td>4</td>\n",
              "      <td>12</td>\n",
              "      <td>31</td>\n",
              "      <td>2017-12-31</td>\n",
              "      <td>MIA</td>\n",
              "      <td>SFO</td>\n",
              "      <td>1950</td>\n",
              "      <td>1948.0</td>\n",
              "      <td>0.0</td>\n",
              "      <td>0.0</td>\n",
              "      <td>2322</td>\n",
              "      <td>2309.0</td>\n",
              "      <td>0.0</td>\n",
              "      <td>0.0</td>\n",
              "      <td>2000</td>\n",
              "      <td>2300</td>\n",
              "      <td>2017-12-31</td>\n",
              "    </tr>\n",
              "    <tr>\n",
              "      <th>1780888</th>\n",
              "      <td>4980153</td>\n",
              "      <td>2</td>\n",
              "      <td>11</td>\n",
              "      <td>79</td>\n",
              "      <td>0.0</td>\n",
              "      <td>1020</td>\n",
              "      <td>4</td>\n",
              "      <td>10</td>\n",
              "      <td>11</td>\n",
              "      <td>11</td>\n",
              "      <td>194</td>\n",
              "      <td>97</td>\n",
              "      <td>2017-12-31</td>\n",
              "      <td>SFO</td>\n",
              "      <td>2300.0</td>\n",
              "      <td>4</td>\n",
              "      <td>-5</td>\n",
              "      <td>36</td>\n",
              "      <td>0.0</td>\n",
              "      <td>1019</td>\n",
              "      <td>6</td>\n",
              "      <td>10</td>\n",
              "      <td>15</td>\n",
              "      <td>15</td>\n",
              "      <td>14</td>\n",
              "      <td>26</td>\n",
              "      <td>2017-12-31</td>\n",
              "      <td>PHX</td>\n",
              "      <td>2200.0</td>\n",
              "      <td>2017</td>\n",
              "      <td>4</td>\n",
              "      <td>12</td>\n",
              "      <td>31</td>\n",
              "      <td>2017-12-31</td>\n",
              "      <td>PHX</td>\n",
              "      <td>SFO</td>\n",
              "      <td>2140</td>\n",
              "      <td>2139.0</td>\n",
              "      <td>0.0</td>\n",
              "      <td>0.0</td>\n",
              "      <td>2254</td>\n",
              "      <td>2243.0</td>\n",
              "      <td>0.0</td>\n",
              "      <td>0.0</td>\n",
              "      <td>2200</td>\n",
              "      <td>2300</td>\n",
              "      <td>2017-12-31</td>\n",
              "    </tr>\n",
              "    <tr>\n",
              "      <th>1780889</th>\n",
              "      <td>4980154</td>\n",
              "      <td>2</td>\n",
              "      <td>11</td>\n",
              "      <td>79</td>\n",
              "      <td>0.0</td>\n",
              "      <td>1020</td>\n",
              "      <td>4</td>\n",
              "      <td>10</td>\n",
              "      <td>11</td>\n",
              "      <td>11</td>\n",
              "      <td>194</td>\n",
              "      <td>97</td>\n",
              "      <td>2017-12-31</td>\n",
              "      <td>SFO</td>\n",
              "      <td>2300.0</td>\n",
              "      <td>11</td>\n",
              "      <td>0</td>\n",
              "      <td>24</td>\n",
              "      <td>0.0</td>\n",
              "      <td>1024</td>\n",
              "      <td>12</td>\n",
              "      <td>10</td>\n",
              "      <td>2</td>\n",
              "      <td>0</td>\n",
              "      <td>18</td>\n",
              "      <td>90</td>\n",
              "      <td>2017-12-31</td>\n",
              "      <td>SEA</td>\n",
              "      <td>2100.0</td>\n",
              "      <td>2017</td>\n",
              "      <td>4</td>\n",
              "      <td>12</td>\n",
              "      <td>31</td>\n",
              "      <td>2017-12-31</td>\n",
              "      <td>SEA</td>\n",
              "      <td>SFO</td>\n",
              "      <td>2055</td>\n",
              "      <td>2049.0</td>\n",
              "      <td>0.0</td>\n",
              "      <td>0.0</td>\n",
              "      <td>2313</td>\n",
              "      <td>2250.0</td>\n",
              "      <td>0.0</td>\n",
              "      <td>0.0</td>\n",
              "      <td>2100</td>\n",
              "      <td>2300</td>\n",
              "      <td>2017-12-31</td>\n",
              "    </tr>\n",
              "  </tbody>\n",
              "</table>\n",
              "</div>"
            ],
            "text/plain": [
              "         Unnamed: 0  windspeedKmph_A  ...  round_Atime      A_date\n",
              "1780885     4980150                2  ...         2300  2017-12-31\n",
              "1780886     4980151                2  ...         2300  2017-12-31\n",
              "1780887     4980152                2  ...         2300  2017-12-31\n",
              "1780888     4980153                2  ...         2300  2017-12-31\n",
              "1780889     4980154                2  ...         2300  2017-12-31\n",
              "\n",
              "[5 rows x 47 columns]"
            ]
          },
          "metadata": {
            "tags": []
          },
          "execution_count": 4
        }
      ]
    },
    {
      "cell_type": "code",
      "metadata": {
        "id": "T4pzJOmxujaV",
        "colab_type": "code",
        "outputId": "c48bf6ff-ae2f-413c-a2f4-9d22830c4711",
        "colab": {
          "base_uri": "https://localhost:8080/",
          "height": 363
        }
      },
      "source": [
        "# Categorical boolean mask\n",
        "categorical_feature_mask = df.dtypes==object# filter categorical columns using mask and turn it into a list\n",
        "categorical_cols = df.columns[categorical_feature_mask].tolist()\n",
        "\n",
        "# import labelencoder\n",
        "from sklearn.preprocessing import LabelEncoder# instantiate labelencoder object\n",
        "le = LabelEncoder()\n",
        "\n",
        "# apply le on categorical feature columns\n",
        "df[categorical_cols] = df[categorical_cols].apply(lambda col: le.fit_transform(col))\n",
        "df[categorical_cols].head(10)"
      ],
      "execution_count": 0,
      "outputs": [
        {
          "output_type": "execute_result",
          "data": {
            "text/html": [
              "<div>\n",
              "<style scoped>\n",
              "    .dataframe tbody tr th:only-of-type {\n",
              "        vertical-align: middle;\n",
              "    }\n",
              "\n",
              "    .dataframe tbody tr th {\n",
              "        vertical-align: top;\n",
              "    }\n",
              "\n",
              "    .dataframe thead th {\n",
              "        text-align: right;\n",
              "    }\n",
              "</style>\n",
              "<table border=\"1\" class=\"dataframe\">\n",
              "  <thead>\n",
              "    <tr style=\"text-align: right;\">\n",
              "      <th></th>\n",
              "      <th>date_A</th>\n",
              "      <th>airport_A</th>\n",
              "      <th>date_D</th>\n",
              "      <th>airport_D</th>\n",
              "      <th>FlightDate</th>\n",
              "      <th>Origin</th>\n",
              "      <th>Dest</th>\n",
              "      <th>A_date</th>\n",
              "    </tr>\n",
              "  </thead>\n",
              "  <tbody>\n",
              "    <tr>\n",
              "      <th>0</th>\n",
              "      <td>0</td>\n",
              "      <td>0</td>\n",
              "      <td>0</td>\n",
              "      <td>2</td>\n",
              "      <td>0</td>\n",
              "      <td>2</td>\n",
              "      <td>0</td>\n",
              "      <td>1</td>\n",
              "    </tr>\n",
              "    <tr>\n",
              "      <th>1</th>\n",
              "      <td>0</td>\n",
              "      <td>0</td>\n",
              "      <td>0</td>\n",
              "      <td>3</td>\n",
              "      <td>0</td>\n",
              "      <td>3</td>\n",
              "      <td>0</td>\n",
              "      <td>1</td>\n",
              "    </tr>\n",
              "    <tr>\n",
              "      <th>2</th>\n",
              "      <td>0</td>\n",
              "      <td>0</td>\n",
              "      <td>0</td>\n",
              "      <td>4</td>\n",
              "      <td>0</td>\n",
              "      <td>4</td>\n",
              "      <td>0</td>\n",
              "      <td>1</td>\n",
              "    </tr>\n",
              "    <tr>\n",
              "      <th>3</th>\n",
              "      <td>0</td>\n",
              "      <td>0</td>\n",
              "      <td>0</td>\n",
              "      <td>14</td>\n",
              "      <td>0</td>\n",
              "      <td>14</td>\n",
              "      <td>0</td>\n",
              "      <td>1</td>\n",
              "    </tr>\n",
              "    <tr>\n",
              "      <th>4</th>\n",
              "      <td>0</td>\n",
              "      <td>0</td>\n",
              "      <td>0</td>\n",
              "      <td>2</td>\n",
              "      <td>0</td>\n",
              "      <td>2</td>\n",
              "      <td>0</td>\n",
              "      <td>1</td>\n",
              "    </tr>\n",
              "    <tr>\n",
              "      <th>5</th>\n",
              "      <td>0</td>\n",
              "      <td>0</td>\n",
              "      <td>0</td>\n",
              "      <td>2</td>\n",
              "      <td>0</td>\n",
              "      <td>2</td>\n",
              "      <td>0</td>\n",
              "      <td>1</td>\n",
              "    </tr>\n",
              "    <tr>\n",
              "      <th>6</th>\n",
              "      <td>0</td>\n",
              "      <td>0</td>\n",
              "      <td>0</td>\n",
              "      <td>2</td>\n",
              "      <td>0</td>\n",
              "      <td>2</td>\n",
              "      <td>0</td>\n",
              "      <td>0</td>\n",
              "    </tr>\n",
              "    <tr>\n",
              "      <th>7</th>\n",
              "      <td>0</td>\n",
              "      <td>0</td>\n",
              "      <td>0</td>\n",
              "      <td>7</td>\n",
              "      <td>0</td>\n",
              "      <td>7</td>\n",
              "      <td>0</td>\n",
              "      <td>1</td>\n",
              "    </tr>\n",
              "    <tr>\n",
              "      <th>8</th>\n",
              "      <td>0</td>\n",
              "      <td>0</td>\n",
              "      <td>0</td>\n",
              "      <td>8</td>\n",
              "      <td>0</td>\n",
              "      <td>8</td>\n",
              "      <td>0</td>\n",
              "      <td>1</td>\n",
              "    </tr>\n",
              "    <tr>\n",
              "      <th>9</th>\n",
              "      <td>0</td>\n",
              "      <td>0</td>\n",
              "      <td>0</td>\n",
              "      <td>8</td>\n",
              "      <td>0</td>\n",
              "      <td>8</td>\n",
              "      <td>0</td>\n",
              "      <td>1</td>\n",
              "    </tr>\n",
              "  </tbody>\n",
              "</table>\n",
              "</div>"
            ],
            "text/plain": [
              "   date_A  airport_A  date_D  airport_D  FlightDate  Origin  Dest  A_date\n",
              "0       0          0       0          2           0       2     0       1\n",
              "1       0          0       0          3           0       3     0       1\n",
              "2       0          0       0          4           0       4     0       1\n",
              "3       0          0       0         14           0      14     0       1\n",
              "4       0          0       0          2           0       2     0       1\n",
              "5       0          0       0          2           0       2     0       1\n",
              "6       0          0       0          2           0       2     0       0\n",
              "7       0          0       0          7           0       7     0       1\n",
              "8       0          0       0          8           0       8     0       1\n",
              "9       0          0       0          8           0       8     0       1"
            ]
          },
          "metadata": {
            "tags": []
          },
          "execution_count": 5
        }
      ]
    },
    {
      "cell_type": "code",
      "metadata": {
        "id": "u64rZa1Y0yWU",
        "colab_type": "code",
        "outputId": "9bd4787c-ec5b-4b6d-f77f-4a691a3bf058",
        "colab": {
          "base_uri": "https://localhost:8080/",
          "height": 316
        }
      },
      "source": [
        "import matplotlib.pyplot as plt\n",
        "df.hist(column='ArrDel15')"
      ],
      "execution_count": 0,
      "outputs": [
        {
          "output_type": "execute_result",
          "data": {
            "text/plain": [
              "array([[<matplotlib.axes._subplots.AxesSubplot object at 0x7f83391fe0f0>]],\n",
              "      dtype=object)"
            ]
          },
          "metadata": {
            "tags": []
          },
          "execution_count": 6
        },
        {
          "output_type": "display_data",
          "data": {
            "image/png": "[encoded data removed]",
            "text/plain": [
              "<Figure size 432x288 with 1 Axes>"
            ]
          },
          "metadata": {
            "tags": []
          }
        }
      ]
    },
    {
      "cell_type": "code",
      "metadata": {
        "id": "owtZk9mtHm3v",
        "colab_type": "code",
        "colab": {}
      },
      "source": [
        "y = np.array(df['ArrDel15'])\n",
        "df = df.drop(['Unnamed: 0','ArrDel15','ArrTime','ArrDelayMinutes','CRSArrTime','round_Atime','round_Dtime', 'DepTime','A_date'],axis=1)\n",
        "X = np.array(df)"
      ],
      "execution_count": 0,
      "outputs": []
    },
    {
      "cell_type": "code",
      "metadata": {
        "id": "wnCdws9T6K1k",
        "colab_type": "code",
        "colab": {}
      },
      "source": [
        "X_train, X_test, y_train, y_test = train_test_split(X, y, test_size = 0.2, random_state = 42)"
      ],
      "execution_count": 0,
      "outputs": []
    },
    {
      "cell_type": "code",
      "metadata": {
        "id": "00Aq04KlQAM8",
        "colab_type": "code",
        "outputId": "7944aa86-b976-40aa-ff30-efa5540f1b7e",
        "colab": {
          "base_uri": "https://localhost:8080/",
          "height": 312
        }
      },
      "source": [
        "from sklearn.metrics import classification_report\n",
        "from sklearn.linear_model import LogisticRegression\n",
        "# all parameters not specified are set to their defaults\n",
        "logisticRegr = LogisticRegression()\n",
        "logisticRegr.fit(X_train, y_train)\n",
        "\n",
        "predictions = logisticRegr.predict(X_test)\n",
        "print(classification_report(y_test, predictions))"
      ],
      "execution_count": 0,
      "outputs": [
        {
          "output_type": "stream",
          "text": [
            "/usr/local/lib/python3.6/dist-packages/sklearn/linear_model/_logistic.py:940: ConvergenceWarning: lbfgs failed to converge (status=1):\n",
            "STOP: TOTAL NO. of ITERATIONS REACHED LIMIT.\n",
            "\n",
            "Increase the number of iterations (max_iter) or scale the data as shown in:\n",
            "    https://scikit-learn.org/stable/modules/preprocessing.html\n",
            "Please also refer to the documentation for alternative solver options:\n",
            "    https://scikit-learn.org/stable/modules/linear_model.html#logistic-regression\n",
            "  extra_warning_msg=_LOGISTIC_SOLVER_CONVERGENCE_MSG)\n"
          ],
          "name": "stderr"
        },
        {
          "output_type": "stream",
          "text": [
            "              precision    recall  f1-score   support\n",
            "\n",
            "         0.0       0.92      0.98      0.95    281959\n",
            "         1.0       0.89      0.68      0.77     74219\n",
            "\n",
            "    accuracy                           0.92    356178\n",
            "   macro avg       0.91      0.83      0.86    356178\n",
            "weighted avg       0.91      0.92      0.91    356178\n",
            "\n"
          ],
          "name": "stdout"
        }
      ]
    },
    {
      "cell_type": "code",
      "metadata": {
        "id": "y3Ujp09M0LKs",
        "colab_type": "code",
        "outputId": "823e1745-d826-48b8-fdad-96b0a9219230",
        "colab": {
          "base_uri": "https://localhost:8080/",
          "height": 52
        }
      },
      "source": [
        "from sklearn import metrics\n",
        "cm = metrics.confusion_matrix(y_test, predictions)\n",
        "print(cm)"
      ],
      "execution_count": 0,
      "outputs": [
        {
          "output_type": "stream",
          "text": [
            "[[275762   6197]\n",
            " [ 23590  50629]]\n"
          ],
          "name": "stdout"
        }
      ]
    },
    {
      "cell_type": "code",
      "metadata": {
        "id": "QubM_XHHW0S6",
        "colab_type": "code",
        "outputId": "c43bc0f5-62b8-46a7-fe4a-d15d387e78e3",
        "colab": {
          "base_uri": "https://localhost:8080/",
          "height": 173
        }
      },
      "source": [
        "from sklearn import tree\n",
        "clf = tree.DecisionTreeClassifier()\n",
        "clf = clf.fit(X_train, y_train)\n",
        "\n",
        "predictions = clf.predict(X_test)\n",
        "print(classification_report(y_test, predictions))"
      ],
      "execution_count": 0,
      "outputs": [
        {
          "output_type": "stream",
          "text": [
            "              precision    recall  f1-score   support\n",
            "\n",
            "         0.0       0.92      0.91      0.92    281959\n",
            "         1.0       0.69      0.71      0.70     74219\n",
            "\n",
            "    accuracy                           0.87    356178\n",
            "   macro avg       0.81      0.81      0.81    356178\n",
            "weighted avg       0.87      0.87      0.87    356178\n",
            "\n"
          ],
          "name": "stdout"
        }
      ]
    },
    {
      "cell_type": "code",
      "metadata": {
        "id": "Z2aTfZNn7DVU",
        "colab_type": "code",
        "outputId": "cc08c95c-746d-4708-848d-2b2b221005db",
        "colab": {
          "base_uri": "https://localhost:8080/",
          "height": 173
        }
      },
      "source": [
        "from sklearn.ensemble import ExtraTreesClassifier\n",
        "\n",
        "clf = ExtraTreesClassifier(n_estimators=100, random_state=0)\n",
        "clf = clf.fit(X_train, y_train)\n",
        "predictions = clf.predict(X_test)\n",
        "print(classification_report(y_test, predictions))\n"
      ],
      "execution_count": 0,
      "outputs": [
        {
          "output_type": "stream",
          "text": [
            "              precision    recall  f1-score   support\n",
            "\n",
            "         0.0       0.94      0.95      0.94    281959\n",
            "         1.0       0.80      0.75      0.77     74219\n",
            "\n",
            "    accuracy                           0.91    356178\n",
            "   macro avg       0.87      0.85      0.86    356178\n",
            "weighted avg       0.91      0.91      0.91    356178\n",
            "\n"
          ],
          "name": "stdout"
        }
      ]
    },
    {
      "cell_type": "code",
      "metadata": {
        "id": "fY77neGa-UTB",
        "colab_type": "code",
        "outputId": "00d1dbaf-a72a-473f-88df-1dbe9313de3b",
        "colab": {
          "base_uri": "https://localhost:8080/",
          "height": 173
        }
      },
      "source": [
        "from sklearn.ensemble import GradientBoostingClassifier\n",
        "\n",
        "clf = GradientBoostingClassifier()\n",
        "clf = clf.fit(X_train, y_train)\n",
        "predictions = clf.predict(X_test)\n",
        "print(classification_report(y_test, predictions))\n"
      ],
      "execution_count": 0,
      "outputs": [
        {
          "output_type": "stream",
          "text": [
            "              precision    recall  f1-score   support\n",
            "\n",
            "         0.0       0.92      0.98      0.95    281959\n",
            "         1.0       0.89      0.69      0.78     74219\n",
            "\n",
            "    accuracy                           0.92    356178\n",
            "   macro avg       0.91      0.83      0.86    356178\n",
            "weighted avg       0.92      0.92      0.91    356178\n",
            "\n"
          ],
          "name": "stdout"
        }
      ]
    },
    {
      "cell_type": "code",
      "metadata": {
        "id": "fWzknGRF__SF",
        "colab_type": "code",
        "outputId": "56decbbb-57b7-4912-b050-841a7e18f895",
        "colab": {
          "base_uri": "https://localhost:8080/",
          "height": 173
        }
      },
      "source": [
        "df.columns"
      ],
      "execution_count": 0,
      "outputs": [
        {
          "output_type": "execute_result",
          "data": {
            "text/plain": [
              "Index(['windspeedKmph_A', 'DewPointC_A', 'cloudcover_A', 'precipMM_A',\n",
              "       'pressure_A', 'WindGustKmph_A', 'visibility_A', 'tempC_A',\n",
              "       'WindChillC_A', 'winddirDegree_A', 'humidity_A', 'date_A', 'airport_A',\n",
              "       'itime_A', 'windspeedKmph_D', 'DewPointC_D', 'cloudcover_D',\n",
              "       'precipMM_D', 'pressure_D', 'WindGustKmph_D', 'visibility_D', 'tempC_D',\n",
              "       'WindChillC_D', 'winddirDegree_D', 'humidity_D', 'date_D', 'airport_D',\n",
              "       'itime_D', 'Year', 'Quarter', 'Month', 'DayofMonth', 'FlightDate',\n",
              "       'Origin', 'Dest', 'CRSDepTime', 'DepDelayMinutes', 'DepDel15'],\n",
              "      dtype='object')"
            ]
          },
          "metadata": {
            "tags": []
          },
          "execution_count": 14
        }
      ]
    },
    {
      "cell_type": "code",
      "metadata": {
        "id": "tDR8g1QuFD53",
        "colab_type": "code",
        "colab": {}
      },
      "source": [
        ""
      ],
      "execution_count": 0,
      "outputs": []
    }
  ]
}