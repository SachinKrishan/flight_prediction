{
 "cells": [
  {
   "cell_type": "code",
   "execution_count": 1,
   "metadata": {
    "colab": {
     "base_uri": "https://localhost:8080/",
     "height": 34
    },
    "colab_type": "code",
    "id": "1RUvdzA890DZ",
    "outputId": "eab55440-5ffb-416a-cf21-1595d36f1f1e"
   },
   "outputs": [],
   "source": [
    "import pandas as pd\n",
    "import json\n",
    "from pandas.io.json import json_normalize  \n",
    "#from google.colab import drive\n",
    "import datetime\n",
    "#drive.mount('/content/gdrive/',force_remount = True)"
   ]
  },
  {
   "cell_type": "code",
   "execution_count": 2,
   "metadata": {
    "colab": {},
    "colab_type": "code",
    "id": "yD832oWbD6RL"
   },
   "outputs": [],
   "source": [
    "import numpy as np\n",
    "from sklearn.model_selection import train_test_split\n",
    "from sklearn.linear_model import LinearRegression\n",
    "from sklearn import metrics\n",
    "from sklearn.ensemble import RandomForestRegressor\n",
    "from sklearn.svm import SVR\n"
   ]
  },
  {
   "cell_type": "code",
   "execution_count": 3,
   "metadata": {
    "colab": {},
    "colab_type": "code",
    "id": "tuQtKwjxA4dw"
   },
   "outputs": [],
   "source": [
    "df = pd.read_csv(\"merged.csv\")"
   ]
  },
  {
   "cell_type": "code",
   "execution_count": 4,
   "metadata": {
    "colab": {
     "base_uri": "https://localhost:8080/",
     "height": 243
    },
    "colab_type": "code",
    "id": "sgMApNtgCfJW",
    "outputId": "d39fedd3-0e43-4763-c475-5eec853d6da4"
   },
   "outputs": [
    {
     "data": {
      "text/html": [
       "<div>\n",
       "<style scoped>\n",
       "    .dataframe tbody tr th:only-of-type {\n",
       "        vertical-align: middle;\n",
       "    }\n",
       "\n",
       "    .dataframe tbody tr th {\n",
       "        vertical-align: top;\n",
       "    }\n",
       "\n",
       "    .dataframe thead th {\n",
       "        text-align: right;\n",
       "    }\n",
       "</style>\n",
       "<table border=\"1\" class=\"dataframe\">\n",
       "  <thead>\n",
       "    <tr style=\"text-align: right;\">\n",
       "      <th></th>\n",
       "      <th>Unnamed: 0</th>\n",
       "      <th>windspeedKmph_A</th>\n",
       "      <th>DewPointC_A</th>\n",
       "      <th>cloudcover_A</th>\n",
       "      <th>precipMM_A</th>\n",
       "      <th>pressure_A</th>\n",
       "      <th>WindGustKmph_A</th>\n",
       "      <th>visibility_A</th>\n",
       "      <th>tempC_A</th>\n",
       "      <th>WindChillC_A</th>\n",
       "      <th>...</th>\n",
       "      <th>DepTime</th>\n",
       "      <th>DepDelayMinutes</th>\n",
       "      <th>DepDel15</th>\n",
       "      <th>CRSArrTime</th>\n",
       "      <th>ArrTime</th>\n",
       "      <th>ArrDelayMinutes</th>\n",
       "      <th>ArrDel15</th>\n",
       "      <th>round_Dtime</th>\n",
       "      <th>round_Atime</th>\n",
       "      <th>A_date</th>\n",
       "    </tr>\n",
       "  </thead>\n",
       "  <tbody>\n",
       "    <tr>\n",
       "      <td>1780885</td>\n",
       "      <td>4980150</td>\n",
       "      <td>2</td>\n",
       "      <td>11</td>\n",
       "      <td>79</td>\n",
       "      <td>0.0</td>\n",
       "      <td>1020</td>\n",
       "      <td>4</td>\n",
       "      <td>10</td>\n",
       "      <td>11</td>\n",
       "      <td>11</td>\n",
       "      <td>...</td>\n",
       "      <td>1931.0</td>\n",
       "      <td>11.0</td>\n",
       "      <td>0.0</td>\n",
       "      <td>2253</td>\n",
       "      <td>2258.0</td>\n",
       "      <td>5.0</td>\n",
       "      <td>0.0</td>\n",
       "      <td>1900</td>\n",
       "      <td>2300</td>\n",
       "      <td>2017-12-31</td>\n",
       "    </tr>\n",
       "    <tr>\n",
       "      <td>1780886</td>\n",
       "      <td>4980151</td>\n",
       "      <td>2</td>\n",
       "      <td>11</td>\n",
       "      <td>79</td>\n",
       "      <td>0.0</td>\n",
       "      <td>1020</td>\n",
       "      <td>4</td>\n",
       "      <td>10</td>\n",
       "      <td>11</td>\n",
       "      <td>11</td>\n",
       "      <td>...</td>\n",
       "      <td>2055.0</td>\n",
       "      <td>90.0</td>\n",
       "      <td>1.0</td>\n",
       "      <td>2326</td>\n",
       "      <td>16.0</td>\n",
       "      <td>50.0</td>\n",
       "      <td>1.0</td>\n",
       "      <td>1900</td>\n",
       "      <td>2300</td>\n",
       "      <td>2017-12-31</td>\n",
       "    </tr>\n",
       "    <tr>\n",
       "      <td>1780887</td>\n",
       "      <td>4980152</td>\n",
       "      <td>2</td>\n",
       "      <td>11</td>\n",
       "      <td>79</td>\n",
       "      <td>0.0</td>\n",
       "      <td>1020</td>\n",
       "      <td>4</td>\n",
       "      <td>10</td>\n",
       "      <td>11</td>\n",
       "      <td>11</td>\n",
       "      <td>...</td>\n",
       "      <td>1948.0</td>\n",
       "      <td>0.0</td>\n",
       "      <td>0.0</td>\n",
       "      <td>2322</td>\n",
       "      <td>2309.0</td>\n",
       "      <td>0.0</td>\n",
       "      <td>0.0</td>\n",
       "      <td>2000</td>\n",
       "      <td>2300</td>\n",
       "      <td>2017-12-31</td>\n",
       "    </tr>\n",
       "    <tr>\n",
       "      <td>1780888</td>\n",
       "      <td>4980153</td>\n",
       "      <td>2</td>\n",
       "      <td>11</td>\n",
       "      <td>79</td>\n",
       "      <td>0.0</td>\n",
       "      <td>1020</td>\n",
       "      <td>4</td>\n",
       "      <td>10</td>\n",
       "      <td>11</td>\n",
       "      <td>11</td>\n",
       "      <td>...</td>\n",
       "      <td>2139.0</td>\n",
       "      <td>0.0</td>\n",
       "      <td>0.0</td>\n",
       "      <td>2254</td>\n",
       "      <td>2243.0</td>\n",
       "      <td>0.0</td>\n",
       "      <td>0.0</td>\n",
       "      <td>2200</td>\n",
       "      <td>2300</td>\n",
       "      <td>2017-12-31</td>\n",
       "    </tr>\n",
       "    <tr>\n",
       "      <td>1780889</td>\n",
       "      <td>4980154</td>\n",
       "      <td>2</td>\n",
       "      <td>11</td>\n",
       "      <td>79</td>\n",
       "      <td>0.0</td>\n",
       "      <td>1020</td>\n",
       "      <td>4</td>\n",
       "      <td>10</td>\n",
       "      <td>11</td>\n",
       "      <td>11</td>\n",
       "      <td>...</td>\n",
       "      <td>2049.0</td>\n",
       "      <td>0.0</td>\n",
       "      <td>0.0</td>\n",
       "      <td>2313</td>\n",
       "      <td>2250.0</td>\n",
       "      <td>0.0</td>\n",
       "      <td>0.0</td>\n",
       "      <td>2100</td>\n",
       "      <td>2300</td>\n",
       "      <td>2017-12-31</td>\n",
       "    </tr>\n",
       "  </tbody>\n",
       "</table>\n",
       "<p>5 rows × 47 columns</p>\n",
       "</div>"
      ],
      "text/plain": [
       "         Unnamed: 0  windspeedKmph_A  DewPointC_A  cloudcover_A  precipMM_A  \\\n",
       "1780885     4980150                2           11            79         0.0   \n",
       "1780886     4980151                2           11            79         0.0   \n",
       "1780887     4980152                2           11            79         0.0   \n",
       "1780888     4980153                2           11            79         0.0   \n",
       "1780889     4980154                2           11            79         0.0   \n",
       "\n",
       "         pressure_A  WindGustKmph_A  visibility_A  tempC_A  WindChillC_A  ...  \\\n",
       "1780885        1020               4            10       11            11  ...   \n",
       "1780886        1020               4            10       11            11  ...   \n",
       "1780887        1020               4            10       11            11  ...   \n",
       "1780888        1020               4            10       11            11  ...   \n",
       "1780889        1020               4            10       11            11  ...   \n",
       "\n",
       "         DepTime  DepDelayMinutes DepDel15 CRSArrTime  ArrTime  \\\n",
       "1780885   1931.0             11.0      0.0       2253   2258.0   \n",
       "1780886   2055.0             90.0      1.0       2326     16.0   \n",
       "1780887   1948.0              0.0      0.0       2322   2309.0   \n",
       "1780888   2139.0              0.0      0.0       2254   2243.0   \n",
       "1780889   2049.0              0.0      0.0       2313   2250.0   \n",
       "\n",
       "         ArrDelayMinutes  ArrDel15  round_Dtime  round_Atime      A_date  \n",
       "1780885              5.0       0.0         1900         2300  2017-12-31  \n",
       "1780886             50.0       1.0         1900         2300  2017-12-31  \n",
       "1780887              0.0       0.0         2000         2300  2017-12-31  \n",
       "1780888              0.0       0.0         2200         2300  2017-12-31  \n",
       "1780889              0.0       0.0         2100         2300  2017-12-31  \n",
       "\n",
       "[5 rows x 47 columns]"
      ]
     },
     "execution_count": 4,
     "metadata": {},
     "output_type": "execute_result"
    }
   ],
   "source": [
    "df.tail()"
   ]
  },
  {
   "cell_type": "code",
   "execution_count": 5,
   "metadata": {
    "colab": {
     "base_uri": "https://localhost:8080/",
     "height": 363
    },
    "colab_type": "code",
    "id": "T4pzJOmxujaV",
    "outputId": "8a489175-292d-478d-f6f6-11d62f84b7f5"
   },
   "outputs": [
    {
     "data": {
      "text/html": [
       "<div>\n",
       "<style scoped>\n",
       "    .dataframe tbody tr th:only-of-type {\n",
       "        vertical-align: middle;\n",
       "    }\n",
       "\n",
       "    .dataframe tbody tr th {\n",
       "        vertical-align: top;\n",
       "    }\n",
       "\n",
       "    .dataframe thead th {\n",
       "        text-align: right;\n",
       "    }\n",
       "</style>\n",
       "<table border=\"1\" class=\"dataframe\">\n",
       "  <thead>\n",
       "    <tr style=\"text-align: right;\">\n",
       "      <th></th>\n",
       "      <th>date_A</th>\n",
       "      <th>airport_A</th>\n",
       "      <th>date_D</th>\n",
       "      <th>airport_D</th>\n",
       "      <th>FlightDate</th>\n",
       "      <th>Origin</th>\n",
       "      <th>Dest</th>\n",
       "      <th>A_date</th>\n",
       "    </tr>\n",
       "  </thead>\n",
       "  <tbody>\n",
       "    <tr>\n",
       "      <td>0</td>\n",
       "      <td>0</td>\n",
       "      <td>0</td>\n",
       "      <td>0</td>\n",
       "      <td>2</td>\n",
       "      <td>0</td>\n",
       "      <td>2</td>\n",
       "      <td>0</td>\n",
       "      <td>1</td>\n",
       "    </tr>\n",
       "    <tr>\n",
       "      <td>1</td>\n",
       "      <td>0</td>\n",
       "      <td>0</td>\n",
       "      <td>0</td>\n",
       "      <td>3</td>\n",
       "      <td>0</td>\n",
       "      <td>3</td>\n",
       "      <td>0</td>\n",
       "      <td>1</td>\n",
       "    </tr>\n",
       "    <tr>\n",
       "      <td>2</td>\n",
       "      <td>0</td>\n",
       "      <td>0</td>\n",
       "      <td>0</td>\n",
       "      <td>4</td>\n",
       "      <td>0</td>\n",
       "      <td>4</td>\n",
       "      <td>0</td>\n",
       "      <td>1</td>\n",
       "    </tr>\n",
       "    <tr>\n",
       "      <td>3</td>\n",
       "      <td>0</td>\n",
       "      <td>0</td>\n",
       "      <td>0</td>\n",
       "      <td>14</td>\n",
       "      <td>0</td>\n",
       "      <td>14</td>\n",
       "      <td>0</td>\n",
       "      <td>1</td>\n",
       "    </tr>\n",
       "    <tr>\n",
       "      <td>4</td>\n",
       "      <td>0</td>\n",
       "      <td>0</td>\n",
       "      <td>0</td>\n",
       "      <td>2</td>\n",
       "      <td>0</td>\n",
       "      <td>2</td>\n",
       "      <td>0</td>\n",
       "      <td>1</td>\n",
       "    </tr>\n",
       "    <tr>\n",
       "      <td>5</td>\n",
       "      <td>0</td>\n",
       "      <td>0</td>\n",
       "      <td>0</td>\n",
       "      <td>2</td>\n",
       "      <td>0</td>\n",
       "      <td>2</td>\n",
       "      <td>0</td>\n",
       "      <td>1</td>\n",
       "    </tr>\n",
       "    <tr>\n",
       "      <td>6</td>\n",
       "      <td>0</td>\n",
       "      <td>0</td>\n",
       "      <td>0</td>\n",
       "      <td>2</td>\n",
       "      <td>0</td>\n",
       "      <td>2</td>\n",
       "      <td>0</td>\n",
       "      <td>0</td>\n",
       "    </tr>\n",
       "    <tr>\n",
       "      <td>7</td>\n",
       "      <td>0</td>\n",
       "      <td>0</td>\n",
       "      <td>0</td>\n",
       "      <td>7</td>\n",
       "      <td>0</td>\n",
       "      <td>7</td>\n",
       "      <td>0</td>\n",
       "      <td>1</td>\n",
       "    </tr>\n",
       "    <tr>\n",
       "      <td>8</td>\n",
       "      <td>0</td>\n",
       "      <td>0</td>\n",
       "      <td>0</td>\n",
       "      <td>8</td>\n",
       "      <td>0</td>\n",
       "      <td>8</td>\n",
       "      <td>0</td>\n",
       "      <td>1</td>\n",
       "    </tr>\n",
       "    <tr>\n",
       "      <td>9</td>\n",
       "      <td>0</td>\n",
       "      <td>0</td>\n",
       "      <td>0</td>\n",
       "      <td>8</td>\n",
       "      <td>0</td>\n",
       "      <td>8</td>\n",
       "      <td>0</td>\n",
       "      <td>1</td>\n",
       "    </tr>\n",
       "  </tbody>\n",
       "</table>\n",
       "</div>"
      ],
      "text/plain": [
       "   date_A  airport_A  date_D  airport_D  FlightDate  Origin  Dest  A_date\n",
       "0       0          0       0          2           0       2     0       1\n",
       "1       0          0       0          3           0       3     0       1\n",
       "2       0          0       0          4           0       4     0       1\n",
       "3       0          0       0         14           0      14     0       1\n",
       "4       0          0       0          2           0       2     0       1\n",
       "5       0          0       0          2           0       2     0       1\n",
       "6       0          0       0          2           0       2     0       0\n",
       "7       0          0       0          7           0       7     0       1\n",
       "8       0          0       0          8           0       8     0       1\n",
       "9       0          0       0          8           0       8     0       1"
      ]
     },
     "execution_count": 5,
     "metadata": {},
     "output_type": "execute_result"
    }
   ],
   "source": [
    "# Categorical boolean mask\n",
    "categorical_feature_mask = df.dtypes==object# filter categorical columns using mask and turn it into a list\n",
    "categorical_cols = df.columns[categorical_feature_mask].tolist()\n",
    "\n",
    "# import labelencoder\n",
    "from sklearn.preprocessing import LabelEncoder# instantiate labelencoder object\n",
    "le = LabelEncoder()\n",
    "\n",
    "# apply le on categorical feature columns\n",
    "df[categorical_cols] = df[categorical_cols].apply(lambda col: le.fit_transform(col))\n",
    "df[categorical_cols].head(10)"
   ]
  },
  {
   "cell_type": "code",
   "execution_count": 6,
   "metadata": {
    "colab": {
     "base_uri": "https://localhost:8080/",
     "height": 316
    },
    "colab_type": "code",
    "id": "u64rZa1Y0yWU",
    "outputId": "677c774c-6850-4990-a9c0-3fcb501e75bf"
   },
   "outputs": [
    {
     "data": {
      "text/plain": [
       "array([[<matplotlib.axes._subplots.AxesSubplot object at 0x7f1c4ab67310>]],\n",
       "      dtype=object)"
      ]
     },
     "execution_count": 6,
     "metadata": {},
     "output_type": "execute_result"
    }
   ],
   "source": [
    "import matplotlib.pyplot as plt\n",
    "df.hist(column='ArrDel15')"
   ]
  },
  {
   "cell_type": "code",
   "execution_count": 7,
   "metadata": {
    "colab": {
     "base_uri": "https://localhost:8080/",
     "height": 712
    },
    "colab_type": "code",
    "id": "owtZk9mtHm3v",
    "outputId": "3870f318-d334-4caa-9f11-7b3d88b1c2fd"
   },
   "outputs": [],
   "source": [
    "y = np.array(df['ArrDel15'])\n",
    "df = df.drop(['Unnamed: 0','ArrDel15','ArrTime','ArrDelayMinutes','CRSArrTime','round_Atime','round_Dtime', 'DepTime','date_A','airport_A','airport_D','itime_A','itime_D','date_D'],axis=1)\n",
    "X = np.array(df)"
   ]
  },
  {
   "cell_type": "code",
   "execution_count": 8,
   "metadata": {},
   "outputs": [
    {
     "data": {
      "text/plain": [
       "Index(['windspeedKmph_A', 'DewPointC_A', 'cloudcover_A', 'precipMM_A',\n",
       "       'pressure_A', 'WindGustKmph_A', 'visibility_A', 'tempC_A',\n",
       "       'WindChillC_A', 'winddirDegree_A', 'humidity_A', 'windspeedKmph_D',\n",
       "       'DewPointC_D', 'cloudcover_D', 'precipMM_D', 'pressure_D',\n",
       "       'WindGustKmph_D', 'visibility_D', 'tempC_D', 'WindChillC_D',\n",
       "       'winddirDegree_D', 'humidity_D', 'Year', 'Quarter', 'Month',\n",
       "       'DayofMonth', 'FlightDate', 'Origin', 'Dest', 'CRSDepTime',\n",
       "       'DepDelayMinutes', 'DepDel15', 'A_date'],\n",
       "      dtype='object')"
      ]
     },
     "execution_count": 8,
     "metadata": {},
     "output_type": "execute_result"
    }
   ],
   "source": [
    "df.columns"
   ]
  },
  {
   "cell_type": "code",
   "execution_count": 9,
   "metadata": {
    "colab": {},
    "colab_type": "code",
    "id": "wnCdws9T6K1k"
   },
   "outputs": [],
   "source": [
    "X_train, X_test, y_train, y_test = train_test_split(X, y, test_size = 0.2, random_state = 42)"
   ]
  },
  {
   "cell_type": "code",
   "execution_count": 10,
   "metadata": {
    "colab": {
     "base_uri": "https://localhost:8080/",
     "height": 312
    },
    "colab_type": "code",
    "id": "00Aq04KlQAM8",
    "outputId": "6feee38d-6e48-487c-9fa1-c1cf317c861f"
   },
   "outputs": [
    {
     "name": "stderr",
     "output_type": "stream",
     "text": [
      "/home/rishi/anaconda3/lib/python3.7/site-packages/sklearn/linear_model/logistic.py:432: FutureWarning: Default solver will be changed to 'lbfgs' in 0.22. Specify a solver to silence this warning.\n",
      "  FutureWarning)\n"
     ]
    },
    {
     "name": "stdout",
     "output_type": "stream",
     "text": [
      "              precision    recall  f1-score   support\n",
      "\n",
      "         0.0       0.92      0.98      0.95    281959\n",
      "         1.0       0.89      0.68      0.77     74219\n",
      "\n",
      "    accuracy                           0.92    356178\n",
      "   macro avg       0.91      0.83      0.86    356178\n",
      "weighted avg       0.92      0.92      0.91    356178\n",
      "\n"
     ]
    }
   ],
   "source": [
    "from sklearn.metrics import classification_report\n",
    "from sklearn.linear_model import LogisticRegression\n",
    "# all parameters not specified are set to their defaults\n",
    "logisticRegr = LogisticRegression()\n",
    "logisticRegr.fit(X_train, y_train)\n",
    "\n",
    "predictions = logisticRegr.predict(X_test)\n",
    "print(classification_report(y_test, predictions))"
   ]
  },
  {
   "cell_type": "code",
   "execution_count": 11,
   "metadata": {
    "colab": {
     "base_uri": "https://localhost:8080/",
     "height": 52
    },
    "colab_type": "code",
    "id": "y3Ujp09M0LKs",
    "outputId": "86975ab0-8659-496e-fd0a-7b8fa8a271ea"
   },
   "outputs": [
    {
     "name": "stdout",
     "output_type": "stream",
     "text": [
      "[[275732   6227]\n",
      " [ 23444  50775]]\n"
     ]
    }
   ],
   "source": [
    "from sklearn import metrics\n",
    "cm = metrics.confusion_matrix(y_test, predictions)\n",
    "print(cm)"
   ]
  },
  {
   "cell_type": "code",
   "execution_count": 12,
   "metadata": {
    "colab": {
     "base_uri": "https://localhost:8080/",
     "height": 173
    },
    "colab_type": "code",
    "id": "QubM_XHHW0S6",
    "outputId": "4879eb32-9435-41a4-f70b-65ce39f0d183"
   },
   "outputs": [
    {
     "name": "stdout",
     "output_type": "stream",
     "text": [
      "              precision    recall  f1-score   support\n",
      "\n",
      "         0.0       0.92      0.91      0.92    281959\n",
      "         1.0       0.69      0.71      0.70     74219\n",
      "\n",
      "    accuracy                           0.87    356178\n",
      "   macro avg       0.80      0.81      0.81    356178\n",
      "weighted avg       0.87      0.87      0.87    356178\n",
      "\n"
     ]
    }
   ],
   "source": [
    "from sklearn import tree\n",
    "clf = tree.DecisionTreeClassifier()\n",
    "clf = clf.fit(X_train, y_train)\n",
    "\n",
    "predictions = clf.predict(X_test)\n",
    "print(classification_report(y_test, predictions))"
   ]
  },
  {
   "cell_type": "code",
   "execution_count": 13,
   "metadata": {
    "colab": {
     "base_uri": "https://localhost:8080/",
     "height": 170
    },
    "colab_type": "code",
    "id": "Z2aTfZNn7DVU",
    "outputId": "e565eeea-e1bc-4301-9d59-c86b39040595"
   },
   "outputs": [
    {
     "name": "stdout",
     "output_type": "stream",
     "text": [
      "              precision    recall  f1-score   support\n",
      "\n",
      "         0.0       0.94      0.95      0.94    281959\n",
      "         1.0       0.80      0.75      0.77     74219\n",
      "\n",
      "    accuracy                           0.91    356178\n",
      "   macro avg       0.87      0.85      0.86    356178\n",
      "weighted avg       0.91      0.91      0.91    356178\n",
      "\n"
     ]
    }
   ],
   "source": [
    "from sklearn.ensemble import ExtraTreesClassifier\n",
    "\n",
    "clf = ExtraTreesClassifier(n_estimators=100, random_state=0)\n",
    "clf = clf.fit(X_train, y_train)\n",
    "predictions = clf.predict(X_test)\n",
    "print(classification_report(y_test, predictions))\n"
   ]
  },
  {
   "cell_type": "code",
   "execution_count": 14,
   "metadata": {
    "colab": {
     "base_uri": "https://localhost:8080/",
     "height": 382
    },
    "colab_type": "code",
    "id": "fY77neGa-UTB",
    "outputId": "d22dd8b9-566d-4057-e2ad-b4825ad2827a"
   },
   "outputs": [
    {
     "name": "stdout",
     "output_type": "stream",
     "text": [
      "              precision    recall  f1-score   support\n",
      "\n",
      "         0.0       0.92      0.98      0.95    281959\n",
      "         1.0       0.89      0.69      0.78     74219\n",
      "\n",
      "    accuracy                           0.92    356178\n",
      "   macro avg       0.91      0.83      0.86    356178\n",
      "weighted avg       0.92      0.92      0.91    356178\n",
      "\n"
     ]
    }
   ],
   "source": [
    "from sklearn.ensemble import GradientBoostingClassifier\n",
    "\n",
    "clf = GradientBoostingClassifier()\n",
    "clf = clf.fit(X_train, y_train)\n",
    "predictions = clf.predict(X_test)\n",
    "print(classification_report(y_test, predictions))\n"
   ]
  }
 ],
 "metadata": {
  "colab": {
   "collapsed_sections": [],
   "machine_shape": "hm",
   "name": "flight_m2.ipynb",
   "provenance": []
  },
  "kernelspec": {
   "display_name": "Python 3",
   "language": "python",
   "name": "python3"
  },
  "language_info": {
   "codemirror_mode": {
    "name": "ipython",
    "version": 3
   },
   "file_extension": ".py",
   "mimetype": "text/x-python",
   "name": "python",
   "nbconvert_exporter": "python",
   "pygments_lexer": "ipython3",
   "version": "3.7.4"
  }
 },
 "nbformat": 4,
 "nbformat_minor": 1
}
