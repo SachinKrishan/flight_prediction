{
  "nbformat": 4,
  "nbformat_minor": 0,
  "metadata": {
    "colab": {
      "name": "regression_testing.ipynb",
      "provenance": [],
      "authorship_tag": "ABX9TyMEQO59CIT6PXdQDK+MRxyq"
    },
    "kernelspec": {
      "name": "python3",
      "display_name": "Python 3"
    }
  },
  "cells": [
    {
      "cell_type": "code",
      "metadata": {
        "id": "XGauV-kgIXiq",
        "colab_type": "code",
        "outputId": "ce8faaca-484f-4557-bbd0-53f67c7a5b10",
        "colab": {
          "base_uri": "https://localhost:8080/",
          "height": 34
        }
      },
      "source": [
        "import pandas as pd\n",
        "import json\n",
        "from pandas.io.json import json_normalize  \n",
        "from google.colab import drive\n",
        "import datetime\n",
        "drive.mount('/content/gdrive/',force_remount = True)\n",
        "import numpy as np\n",
        "from sklearn.model_selection import train_test_split\n",
        "df = pd.read_csv(\"gdrive/My Drive/Colab Notebooks/merged.csv\")"
      ],
      "execution_count": 0,
      "outputs": [
        {
          "output_type": "stream",
          "text": [
            "Mounted at /content/gdrive/\n"
          ],
          "name": "stdout"
        }
      ]
    },
    {
      "cell_type": "code",
      "metadata": {
        "id": "EDzlmp6_Ipko",
        "colab_type": "code",
        "outputId": "338058b1-baa4-410d-d10e-27543237ff8b",
        "colab": {
          "base_uri": "https://localhost:8080/",
          "height": 363
        }
      },
      "source": [
        "# Categorical boolean mask\n",
        "categorical_feature_mask = df.dtypes==object# filter categorical columns using mask and turn it into a list\n",
        "categorical_cols = df.columns[categorical_feature_mask].tolist()\n",
        "\n",
        "# import labelencoder\n",
        "from sklearn.preprocessing import LabelEncoder# instantiate labelencoder object\n",
        "le = LabelEncoder()\n",
        "\n",
        "# apply le on categorical feature columns\n",
        "df[categorical_cols] = df[categorical_cols].apply(lambda col: le.fit_transform(col))\n",
        "df[categorical_cols].head(10)"
      ],
      "execution_count": 0,
      "outputs": [
        {
          "output_type": "execute_result",
          "data": {
            "text/html": [
              "<div>\n",
              "<style scoped>\n",
              "    .dataframe tbody tr th:only-of-type {\n",
              "        vertical-align: middle;\n",
              "    }\n",
              "\n",
              "    .dataframe tbody tr th {\n",
              "        vertical-align: top;\n",
              "    }\n",
              "\n",
              "    .dataframe thead th {\n",
              "        text-align: right;\n",
              "    }\n",
              "</style>\n",
              "<table border=\"1\" class=\"dataframe\">\n",
              "  <thead>\n",
              "    <tr style=\"text-align: right;\">\n",
              "      <th></th>\n",
              "      <th>date_A</th>\n",
              "      <th>airport_A</th>\n",
              "      <th>date_D</th>\n",
              "      <th>airport_D</th>\n",
              "      <th>FlightDate</th>\n",
              "      <th>Origin</th>\n",
              "      <th>Dest</th>\n",
              "      <th>A_date</th>\n",
              "    </tr>\n",
              "  </thead>\n",
              "  <tbody>\n",
              "    <tr>\n",
              "      <th>0</th>\n",
              "      <td>0</td>\n",
              "      <td>0</td>\n",
              "      <td>0</td>\n",
              "      <td>2</td>\n",
              "      <td>0</td>\n",
              "      <td>2</td>\n",
              "      <td>0</td>\n",
              "      <td>1</td>\n",
              "    </tr>\n",
              "    <tr>\n",
              "      <th>1</th>\n",
              "      <td>0</td>\n",
              "      <td>0</td>\n",
              "      <td>0</td>\n",
              "      <td>3</td>\n",
              "      <td>0</td>\n",
              "      <td>3</td>\n",
              "      <td>0</td>\n",
              "      <td>1</td>\n",
              "    </tr>\n",
              "    <tr>\n",
              "      <th>2</th>\n",
              "      <td>0</td>\n",
              "      <td>0</td>\n",
              "      <td>0</td>\n",
              "      <td>4</td>\n",
              "      <td>0</td>\n",
              "      <td>4</td>\n",
              "      <td>0</td>\n",
              "      <td>1</td>\n",
              "    </tr>\n",
              "    <tr>\n",
              "      <th>3</th>\n",
              "      <td>0</td>\n",
              "      <td>0</td>\n",
              "      <td>0</td>\n",
              "      <td>14</td>\n",
              "      <td>0</td>\n",
              "      <td>14</td>\n",
              "      <td>0</td>\n",
              "      <td>1</td>\n",
              "    </tr>\n",
              "    <tr>\n",
              "      <th>4</th>\n",
              "      <td>0</td>\n",
              "      <td>0</td>\n",
              "      <td>0</td>\n",
              "      <td>2</td>\n",
              "      <td>0</td>\n",
              "      <td>2</td>\n",
              "      <td>0</td>\n",
              "      <td>1</td>\n",
              "    </tr>\n",
              "    <tr>\n",
              "      <th>5</th>\n",
              "      <td>0</td>\n",
              "      <td>0</td>\n",
              "      <td>0</td>\n",
              "      <td>2</td>\n",
              "      <td>0</td>\n",
              "      <td>2</td>\n",
              "      <td>0</td>\n",
              "      <td>1</td>\n",
              "    </tr>\n",
              "    <tr>\n",
              "      <th>6</th>\n",
              "      <td>0</td>\n",
              "      <td>0</td>\n",
              "      <td>0</td>\n",
              "      <td>2</td>\n",
              "      <td>0</td>\n",
              "      <td>2</td>\n",
              "      <td>0</td>\n",
              "      <td>0</td>\n",
              "    </tr>\n",
              "    <tr>\n",
              "      <th>7</th>\n",
              "      <td>0</td>\n",
              "      <td>0</td>\n",
              "      <td>0</td>\n",
              "      <td>7</td>\n",
              "      <td>0</td>\n",
              "      <td>7</td>\n",
              "      <td>0</td>\n",
              "      <td>1</td>\n",
              "    </tr>\n",
              "    <tr>\n",
              "      <th>8</th>\n",
              "      <td>0</td>\n",
              "      <td>0</td>\n",
              "      <td>0</td>\n",
              "      <td>8</td>\n",
              "      <td>0</td>\n",
              "      <td>8</td>\n",
              "      <td>0</td>\n",
              "      <td>1</td>\n",
              "    </tr>\n",
              "    <tr>\n",
              "      <th>9</th>\n",
              "      <td>0</td>\n",
              "      <td>0</td>\n",
              "      <td>0</td>\n",
              "      <td>8</td>\n",
              "      <td>0</td>\n",
              "      <td>8</td>\n",
              "      <td>0</td>\n",
              "      <td>1</td>\n",
              "    </tr>\n",
              "  </tbody>\n",
              "</table>\n",
              "</div>"
            ],
            "text/plain": [
              "   date_A  airport_A  date_D  airport_D  FlightDate  Origin  Dest  A_date\n",
              "0       0          0       0          2           0       2     0       1\n",
              "1       0          0       0          3           0       3     0       1\n",
              "2       0          0       0          4           0       4     0       1\n",
              "3       0          0       0         14           0      14     0       1\n",
              "4       0          0       0          2           0       2     0       1\n",
              "5       0          0       0          2           0       2     0       1\n",
              "6       0          0       0          2           0       2     0       0\n",
              "7       0          0       0          7           0       7     0       1\n",
              "8       0          0       0          8           0       8     0       1\n",
              "9       0          0       0          8           0       8     0       1"
            ]
          },
          "metadata": {
            "tags": []
          },
          "execution_count": 3
        }
      ]
    },
    {
      "cell_type": "code",
      "metadata": {
        "id": "dFVzQaKoIsde",
        "colab_type": "code",
        "colab": {}
      },
      "source": [
        "df = df[df.ArrDel15 != 0.0]"
      ],
      "execution_count": 0,
      "outputs": []
    },
    {
      "cell_type": "code",
      "metadata": {
        "id": "y6bUByz8JvyN",
        "colab_type": "code",
        "outputId": "dbd06686-922e-4e73-e9bb-b3b9db7eb8a8",
        "colab": {
          "base_uri": "https://localhost:8080/",
          "height": 104
        }
      },
      "source": [
        "print(\"total rows      :    \",df.count()[\"ArrDelayMinutes\"])\n",
        "\n",
        "print(\"count<=100      :    \" ,df[df[\"ArrDelayMinutes\"]<=100].count()[\"ArrDelayMinutes\"])\n",
        "print(\"100<count<=500  :    \" ,df[(df[\"ArrDelayMinutes\"]>100) & (df[\"ArrDelayMinutes\"]<=500)].count()[\"ArrDelayMinutes\"])\n",
        "print(\"500<count<=1000 :    \" ,df[(df[\"ArrDelayMinutes\"]>500) & (df[\"ArrDelayMinutes\"]<=1000)].count()[\"ArrDelayMinutes\"])\n",
        "print(\"1000<count      :    \" ,df[df[\"ArrDelayMinutes\"]>1000].count()[\"ArrDelayMinutes\"])"
      ],
      "execution_count": 0,
      "outputs": [
        {
          "output_type": "stream",
          "text": [
            "total rows      :     370611\n",
            "count<=100      :     309896\n",
            "100<count<=500  :     59498\n",
            "500<count<=1000 :     1048\n",
            "1000<count      :     169\n"
          ],
          "name": "stdout"
        }
      ]
    },
    {
      "cell_type": "code",
      "metadata": {
        "id": "UqrPiAvZMCcN",
        "colab_type": "code",
        "outputId": "29481ee4-decd-41e6-d0be-63b50f62ac01",
        "colab": {
          "base_uri": "https://localhost:8080/",
          "height": 282
        }
      },
      "source": [
        "df[\"ArrDelayMinutes\"].plot(kind = 'hist')  "
      ],
      "execution_count": 0,
      "outputs": [
        {
          "output_type": "execute_result",
          "data": {
            "text/plain": [
              "<matplotlib.axes._subplots.AxesSubplot at 0x7f3c3aad9d68>"
            ]
          },
          "metadata": {
            "tags": []
          },
          "execution_count": 6
        },
        {
          "output_type": "display_data",
          "data": {
            "image/png": "[encoded data removed]",
            "text/plain": [
              "<Figure size 432x288 with 1 Axes>"
            ]
          },
          "metadata": {
            "tags": []
          }
        }
      ]
    },
    {
      "cell_type": "code",
      "metadata": {
        "id": "J3JJeckYRQDt",
        "colab_type": "code",
        "colab": {}
      },
      "source": [
        "cut_labels_4 = ['lessthan100', '100to500', '500to1000', 'morethan1000']\n",
        "cut_bins = [0, 100, 200, 500, 3000]\n",
        "df['delay_class'] = pd.cut(df[\"ArrDelayMinutes\"], bins=cut_bins, labels=cut_labels_4)\n",
        "df.head()\n",
        "\n",
        "df.plot(\"delay_class\",kind = 'bar')  "
      ],
      "execution_count": 0,
      "outputs": []
    },
    {
      "cell_type": "code",
      "metadata": {
        "id": "8H8P9SU_T-Sp",
        "colab_type": "code",
        "outputId": "ac7854c5-3563-40ed-bebe-085364afa229",
        "colab": {
          "base_uri": "https://localhost:8080/",
          "height": 243
        }
      },
      "source": [
        "from sklearn.utils import shuffle\n",
        "df = shuffle(df)\n",
        "df = df_train.drop(['Unnamed: 0','ArrDel15','ArrTime','CRSArrTime','round_Atime','round_Dtime', 'DepTime','A_date','DepDel15','date_A','date_D'],axis=1)\n",
        "df.head()"
      ],
      "execution_count": 0,
      "outputs": [
        {
          "output_type": "execute_result",
          "data": {
            "text/html": [
              "<div>\n",
              "<style scoped>\n",
              "    .dataframe tbody tr th:only-of-type {\n",
              "        vertical-align: middle;\n",
              "    }\n",
              "\n",
              "    .dataframe tbody tr th {\n",
              "        vertical-align: top;\n",
              "    }\n",
              "\n",
              "    .dataframe thead th {\n",
              "        text-align: right;\n",
              "    }\n",
              "</style>\n",
              "<table border=\"1\" class=\"dataframe\">\n",
              "  <thead>\n",
              "    <tr style=\"text-align: right;\">\n",
              "      <th></th>\n",
              "      <th>Unnamed: 0</th>\n",
              "      <th>windspeedKmph_A</th>\n",
              "      <th>DewPointC_A</th>\n",
              "      <th>cloudcover_A</th>\n",
              "      <th>precipMM_A</th>\n",
              "      <th>pressure_A</th>\n",
              "      <th>WindGustKmph_A</th>\n",
              "      <th>visibility_A</th>\n",
              "      <th>tempC_A</th>\n",
              "      <th>WindChillC_A</th>\n",
              "      <th>winddirDegree_A</th>\n",
              "      <th>humidity_A</th>\n",
              "      <th>date_A</th>\n",
              "      <th>airport_A</th>\n",
              "      <th>itime_A</th>\n",
              "      <th>windspeedKmph_D</th>\n",
              "      <th>DewPointC_D</th>\n",
              "      <th>cloudcover_D</th>\n",
              "      <th>precipMM_D</th>\n",
              "      <th>pressure_D</th>\n",
              "      <th>WindGustKmph_D</th>\n",
              "      <th>visibility_D</th>\n",
              "      <th>tempC_D</th>\n",
              "      <th>WindChillC_D</th>\n",
              "      <th>winddirDegree_D</th>\n",
              "      <th>humidity_D</th>\n",
              "      <th>date_D</th>\n",
              "      <th>airport_D</th>\n",
              "      <th>itime_D</th>\n",
              "      <th>Year</th>\n",
              "      <th>Quarter</th>\n",
              "      <th>Month</th>\n",
              "      <th>DayofMonth</th>\n",
              "      <th>FlightDate</th>\n",
              "      <th>Origin</th>\n",
              "      <th>Dest</th>\n",
              "      <th>CRSDepTime</th>\n",
              "      <th>DepTime</th>\n",
              "      <th>DepDelayMinutes</th>\n",
              "      <th>DepDel15</th>\n",
              "      <th>CRSArrTime</th>\n",
              "      <th>ArrTime</th>\n",
              "      <th>ArrDelayMinutes</th>\n",
              "      <th>ArrDel15</th>\n",
              "      <th>round_Dtime</th>\n",
              "      <th>round_Atime</th>\n",
              "      <th>A_date</th>\n",
              "    </tr>\n",
              "  </thead>\n",
              "  <tbody>\n",
              "    <tr>\n",
              "      <th>560354</th>\n",
              "      <td>1967839</td>\n",
              "      <td>12</td>\n",
              "      <td>23</td>\n",
              "      <td>7</td>\n",
              "      <td>0.0</td>\n",
              "      <td>1019</td>\n",
              "      <td>14</td>\n",
              "      <td>10</td>\n",
              "      <td>31</td>\n",
              "      <td>31</td>\n",
              "      <td>183</td>\n",
              "      <td>67</td>\n",
              "      <td>598</td>\n",
              "      <td>4</td>\n",
              "      <td>2000.0</td>\n",
              "      <td>12</td>\n",
              "      <td>15</td>\n",
              "      <td>47</td>\n",
              "      <td>0.0</td>\n",
              "      <td>1015</td>\n",
              "      <td>14</td>\n",
              "      <td>10</td>\n",
              "      <td>23</td>\n",
              "      <td>20</td>\n",
              "      <td>250</td>\n",
              "      <td>73</td>\n",
              "      <td>598</td>\n",
              "      <td>14</td>\n",
              "      <td>1200.0</td>\n",
              "      <td>2017</td>\n",
              "      <td>3</td>\n",
              "      <td>8</td>\n",
              "      <td>21</td>\n",
              "      <td>598</td>\n",
              "      <td>14</td>\n",
              "      <td>4</td>\n",
              "      <td>1140</td>\n",
              "      <td>1257.0</td>\n",
              "      <td>77.0</td>\n",
              "      <td>1.0</td>\n",
              "      <td>2013</td>\n",
              "      <td>2141.0</td>\n",
              "      <td>88.0</td>\n",
              "      <td>1.0</td>\n",
              "      <td>1200</td>\n",
              "      <td>2000</td>\n",
              "      <td>598</td>\n",
              "    </tr>\n",
              "    <tr>\n",
              "      <th>673424</th>\n",
              "      <td>2294559</td>\n",
              "      <td>22</td>\n",
              "      <td>5</td>\n",
              "      <td>17</td>\n",
              "      <td>0.0</td>\n",
              "      <td>1019</td>\n",
              "      <td>41</td>\n",
              "      <td>10</td>\n",
              "      <td>8</td>\n",
              "      <td>6</td>\n",
              "      <td>192</td>\n",
              "      <td>87</td>\n",
              "      <td>90</td>\n",
              "      <td>6</td>\n",
              "      <td>600.0</td>\n",
              "      <td>8</td>\n",
              "      <td>12</td>\n",
              "      <td>44</td>\n",
              "      <td>0.0</td>\n",
              "      <td>1016</td>\n",
              "      <td>9</td>\n",
              "      <td>10</td>\n",
              "      <td>14</td>\n",
              "      <td>14</td>\n",
              "      <td>211</td>\n",
              "      <td>90</td>\n",
              "      <td>90</td>\n",
              "      <td>8</td>\n",
              "      <td>2100.0</td>\n",
              "      <td>2016</td>\n",
              "      <td>1</td>\n",
              "      <td>3</td>\n",
              "      <td>31</td>\n",
              "      <td>90</td>\n",
              "      <td>8</td>\n",
              "      <td>6</td>\n",
              "      <td>2120</td>\n",
              "      <td>2200.0</td>\n",
              "      <td>40.0</td>\n",
              "      <td>1.0</td>\n",
              "      <td>552</td>\n",
              "      <td>607.0</td>\n",
              "      <td>15.0</td>\n",
              "      <td>1.0</td>\n",
              "      <td>2100</td>\n",
              "      <td>600</td>\n",
              "      <td>91</td>\n",
              "    </tr>\n",
              "    <tr>\n",
              "      <th>665585</th>\n",
              "      <td>2276836</td>\n",
              "      <td>19</td>\n",
              "      <td>-6</td>\n",
              "      <td>100</td>\n",
              "      <td>0.7</td>\n",
              "      <td>1023</td>\n",
              "      <td>25</td>\n",
              "      <td>8</td>\n",
              "      <td>-3</td>\n",
              "      <td>-8</td>\n",
              "      <td>12</td>\n",
              "      <td>81</td>\n",
              "      <td>21</td>\n",
              "      <td>6</td>\n",
              "      <td>2300.0</td>\n",
              "      <td>21</td>\n",
              "      <td>13</td>\n",
              "      <td>100</td>\n",
              "      <td>1.0</td>\n",
              "      <td>1015</td>\n",
              "      <td>29</td>\n",
              "      <td>10</td>\n",
              "      <td>15</td>\n",
              "      <td>13</td>\n",
              "      <td>188</td>\n",
              "      <td>92</td>\n",
              "      <td>21</td>\n",
              "      <td>14</td>\n",
              "      <td>1500.0</td>\n",
              "      <td>2016</td>\n",
              "      <td>1</td>\n",
              "      <td>1</td>\n",
              "      <td>22</td>\n",
              "      <td>21</td>\n",
              "      <td>14</td>\n",
              "      <td>6</td>\n",
              "      <td>1500</td>\n",
              "      <td>1459.0</td>\n",
              "      <td>0.0</td>\n",
              "      <td>0.0</td>\n",
              "      <td>2323</td>\n",
              "      <td>2343.0</td>\n",
              "      <td>20.0</td>\n",
              "      <td>1.0</td>\n",
              "      <td>1500</td>\n",
              "      <td>2300</td>\n",
              "      <td>21</td>\n",
              "    </tr>\n",
              "    <tr>\n",
              "      <th>536918</th>\n",
              "      <td>1912939</td>\n",
              "      <td>31</td>\n",
              "      <td>16</td>\n",
              "      <td>100</td>\n",
              "      <td>0.0</td>\n",
              "      <td>999</td>\n",
              "      <td>45</td>\n",
              "      <td>10</td>\n",
              "      <td>20</td>\n",
              "      <td>20</td>\n",
              "      <td>210</td>\n",
              "      <td>79</td>\n",
              "      <td>425</td>\n",
              "      <td>4</td>\n",
              "      <td>1800.0</td>\n",
              "      <td>6</td>\n",
              "      <td>6</td>\n",
              "      <td>46</td>\n",
              "      <td>0.0</td>\n",
              "      <td>1030</td>\n",
              "      <td>10</td>\n",
              "      <td>6</td>\n",
              "      <td>9</td>\n",
              "      <td>7</td>\n",
              "      <td>132</td>\n",
              "      <td>89</td>\n",
              "      <td>425</td>\n",
              "      <td>14</td>\n",
              "      <td>1000.0</td>\n",
              "      <td>2017</td>\n",
              "      <td>1</td>\n",
              "      <td>3</td>\n",
              "      <td>1</td>\n",
              "      <td>425</td>\n",
              "      <td>14</td>\n",
              "      <td>4</td>\n",
              "      <td>950</td>\n",
              "      <td>1113.0</td>\n",
              "      <td>83.0</td>\n",
              "      <td>1.0</td>\n",
              "      <td>1800</td>\n",
              "      <td>1921.0</td>\n",
              "      <td>81.0</td>\n",
              "      <td>1.0</td>\n",
              "      <td>1000</td>\n",
              "      <td>1800</td>\n",
              "      <td>425</td>\n",
              "    </tr>\n",
              "    <tr>\n",
              "      <th>169436</th>\n",
              "      <td>815897</td>\n",
              "      <td>12</td>\n",
              "      <td>20</td>\n",
              "      <td>0</td>\n",
              "      <td>0.0</td>\n",
              "      <td>1019</td>\n",
              "      <td>14</td>\n",
              "      <td>10</td>\n",
              "      <td>33</td>\n",
              "      <td>32</td>\n",
              "      <td>56</td>\n",
              "      <td>50</td>\n",
              "      <td>240</td>\n",
              "      <td>1</td>\n",
              "      <td>1600.0</td>\n",
              "      <td>8</td>\n",
              "      <td>14</td>\n",
              "      <td>0</td>\n",
              "      <td>0.0</td>\n",
              "      <td>1015</td>\n",
              "      <td>9</td>\n",
              "      <td>10</td>\n",
              "      <td>30</td>\n",
              "      <td>27</td>\n",
              "      <td>114</td>\n",
              "      <td>43</td>\n",
              "      <td>240</td>\n",
              "      <td>12</td>\n",
              "      <td>900.0</td>\n",
              "      <td>2016</td>\n",
              "      <td>3</td>\n",
              "      <td>8</td>\n",
              "      <td>28</td>\n",
              "      <td>240</td>\n",
              "      <td>12</td>\n",
              "      <td>1</td>\n",
              "      <td>835</td>\n",
              "      <td>944.0</td>\n",
              "      <td>69.0</td>\n",
              "      <td>1.0</td>\n",
              "      <td>1540</td>\n",
              "      <td>1642.0</td>\n",
              "      <td>62.0</td>\n",
              "      <td>1.0</td>\n",
              "      <td>900</td>\n",
              "      <td>1600</td>\n",
              "      <td>240</td>\n",
              "    </tr>\n",
              "  </tbody>\n",
              "</table>\n",
              "</div>"
            ],
            "text/plain": [
              "        Unnamed: 0  windspeedKmph_A  ...  round_Atime  A_date\n",
              "560354     1967839               12  ...         2000     598\n",
              "673424     2294559               22  ...          600      91\n",
              "665585     2276836               19  ...         2300      21\n",
              "536918     1912939               31  ...         1800     425\n",
              "169436      815897               12  ...         1600     240\n",
              "\n",
              "[5 rows x 47 columns]"
            ]
          },
          "metadata": {
            "tags": []
          },
          "execution_count": 9
        }
      ]
    },
    {
      "cell_type": "code",
      "metadata": {
        "id": "t17206U5VL9c",
        "colab_type": "code",
        "colab": {}
      },
      "source": [
        "df_train = df[:250000]\n",
        "df_test  = df[250000:]\n",
        "df_test1 = df[df[\"ArrDelayMinutes\"] <= 100]\n",
        "df_test2 = df[(df[\"ArrDelayMinutes\"]>100) & (df[\"ArrDelayMinutes\"]<=500)]\n",
        "df_test3 = df[(df[\"ArrDelayMinutes\"]>500) & (df[\"ArrDelayMinutes\"]<=1000)]\n",
        "df_test4 = df[df[\"ArrDelayMinutes\"]>1000]\n",
        "\n",
        "y_train = np.array(df_train['ArrDelayMinutes'])\n",
        "df_train = df_train.drop(['ArrDelayMinutes'],axis=1)\n",
        "X_train = np.array(df_train)\n",
        "\n",
        "y_test1 = np.array(df_test1['ArrDelayMinutes'])\n",
        "df_test1 = df_test1.drop(['ArrDelayMinutes'],axis=1)\n",
        "X_test1 = np.array(df_test1)\n",
        "\n",
        "y_test2 = np.array(df_test2['ArrDelayMinutes'])\n",
        "df_test2 = df_test2.drop(['ArrDelayMinutes'],axis=1)\n",
        "X_test2 = np.array(df_test2)\n",
        "\n",
        "y_test3 = np.array(df_test3['ArrDelayMinutes'])\n",
        "df_test3 = df_test3.drop(['ArrDelayMinutes'],axis=1)\n",
        "X_test3 = np.array(df_test3)\n",
        "\n",
        "y_test4 = np.array(df_test4['ArrDelayMinutes'])\n",
        "df_test4 = df_test4.drop(['ArrDelayMinutes'],axis=1)\n",
        "X_test4 = np.array(df_test4)"
      ],
      "execution_count": 0,
      "outputs": []
    },
    {
      "cell_type": "code",
      "metadata": {
        "id": "X44V42OAdzsJ",
        "colab_type": "code",
        "outputId": "d137110c-856d-4a90-b60b-1d0efb8044e0",
        "colab": {
          "base_uri": "https://localhost:8080/",
          "height": 139
        }
      },
      "source": [
        "from sklearn.ensemble import ExtraTreesRegressor\n",
        "\n",
        "clf = ExtraTreesRegressor(n_estimators=100, random_state=0)\n",
        "clf.fit(X_train, y_train)\n",
        "\n"
      ],
      "execution_count": 0,
      "outputs": [
        {
          "output_type": "execute_result",
          "data": {
            "text/plain": [
              "ExtraTreesRegressor(bootstrap=False, ccp_alpha=0.0, criterion='mse',\n",
              "                    max_depth=None, max_features='auto', max_leaf_nodes=None,\n",
              "                    max_samples=None, min_impurity_decrease=0.0,\n",
              "                    min_impurity_split=None, min_samples_leaf=1,\n",
              "                    min_samples_split=2, min_weight_fraction_leaf=0.0,\n",
              "                    n_estimators=100, n_jobs=None, oob_score=False,\n",
              "                    random_state=0, verbose=0, warm_start=False)"
            ]
          },
          "metadata": {
            "tags": []
          },
          "execution_count": 16
        }
      ]
    },
    {
      "cell_type": "code",
      "metadata": {
        "id": "aH1GxlAYfQwu",
        "colab_type": "code",
        "outputId": "f6a003de-629b-4896-a032-b9b6b980b21f",
        "colab": {
          "base_uri": "https://localhost:8080/",
          "height": 69
        }
      },
      "source": [
        "from sklearn import metrics\n",
        "y_pred = clf.predict(X_test1)\n",
        "print('Mean Absolute Error:', metrics.mean_absolute_error(y_test1, y_pred))  \n",
        "print('Mean Squared Error:', metrics.mean_squared_error(y_test1, y_pred))  \n",
        "print('Root Mean Squared Error:', np.sqrt(metrics.mean_squared_error(y_test1, y_pred)))"
      ],
      "execution_count": 0,
      "outputs": [
        {
          "output_type": "stream",
          "text": [
            "Mean Absolute Error: 2.567801617316777\n",
            "Mean Squared Error: 38.32338215046338\n",
            "Root Mean Squared Error: 6.190588190993113\n"
          ],
          "name": "stdout"
        }
      ]
    },
    {
      "cell_type": "code",
      "metadata": {
        "id": "9TDsb0nsfRAB",
        "colab_type": "code",
        "outputId": "ea3d0933-51a1-4020-b49b-ebd62e496e32",
        "colab": {
          "base_uri": "https://localhost:8080/",
          "height": 69
        }
      },
      "source": [
        "y_pred = clf.predict(X_test2)\n",
        "print('Mean Absolute Error:', metrics.mean_absolute_error(y_test2, y_pred))  \n",
        "print('Mean Squared Error:', metrics.mean_squared_error(y_test2, y_pred))  \n",
        "print('Root Mean Squared Error:', np.sqrt(metrics.mean_squared_error(y_test2, y_pred)))"
      ],
      "execution_count": 0,
      "outputs": [
        {
          "output_type": "stream",
          "text": [
            "Mean Absolute Error: 5.103021109953276\n",
            "Mean Squared Error: 177.03818285152443\n",
            "Root Mean Squared Error: 13.305569617702371\n"
          ],
          "name": "stdout"
        }
      ]
    },
    {
      "cell_type": "code",
      "metadata": {
        "id": "Vm9_6bxFfRKQ",
        "colab_type": "code",
        "outputId": "76212b81-2360-4b86-8fe0-36f7b999ff32",
        "colab": {
          "base_uri": "https://localhost:8080/",
          "height": 69
        }
      },
      "source": [
        "y_pred = clf.predict(X_test3)\n",
        "print('Mean Absolute Error:', metrics.mean_absolute_error(y_test3, y_pred))  \n",
        "print('Mean Squared Error:', metrics.mean_squared_error(y_test3, y_pred))  \n",
        "print('Root Mean Squared Error:', np.sqrt(metrics.mean_squared_error(y_test3, y_pred)))"
      ],
      "execution_count": 0,
      "outputs": [
        {
          "output_type": "stream",
          "text": [
            "Mean Absolute Error: 4.891106870229006\n",
            "Mean Squared Error: 187.91235477099232\n",
            "Root Mean Squared Error: 13.708112735566203\n"
          ],
          "name": "stdout"
        }
      ]
    },
    {
      "cell_type": "code",
      "metadata": {
        "id": "amrCx6j6fRTD",
        "colab_type": "code",
        "outputId": "1db2469a-a7eb-4bd4-ecf0-326b044c08b4",
        "colab": {
          "base_uri": "https://localhost:8080/",
          "height": 69
        }
      },
      "source": [
        "y_pred = clf.predict(X_test4)\n",
        "print('Mean Absolute Error:', metrics.mean_absolute_error(y_test4, y_pred))  \n",
        "print('Mean Squared Error:', metrics.mean_squared_error(y_test4, y_pred))  \n",
        "print('Root Mean Squared Error:', np.sqrt(metrics.mean_squared_error(y_test4, y_pred)))"
      ],
      "execution_count": 0,
      "outputs": [
        {
          "output_type": "stream",
          "text": [
            "Mean Absolute Error: 8.415562130177513\n",
            "Mean Squared Error: 942.2254207100586\n",
            "Root Mean Squared Error: 30.69569058858358\n"
          ],
          "name": "stdout"
        }
      ]
    },
    {
      "cell_type": "code",
      "metadata": {
        "id": "Pu9BslVYfRcR",
        "colab_type": "code",
        "colab": {}
      },
      "source": [
        ""
      ],
      "execution_count": 0,
      "outputs": []
    }
  ]
}