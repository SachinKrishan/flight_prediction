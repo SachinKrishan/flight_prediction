{
  "nbformat": 4,
  "nbformat_minor": 0,
  "metadata": {
    "colab": {
      "name": "flight_m2.2.ipynb",
      "provenance": [],
      "collapsed_sections": [],
      "authorship_tag": "ABX9TyMSBYtsvmbkbIxVbq8KqOz+"
    },
    "kernelspec": {
      "name": "python3",
      "display_name": "Python 3"
    }
  },
  "cells": [
    {
      "cell_type": "markdown",
      "metadata": {
        "id": "5y0u3JggLdKG",
        "colab_type": "text"
      },
      "source": [
        "#Pipelining\n",
        "\n",
        "we have explored the performaces of various models and resampling. After examinination we have decided extra trees classifiers resampled using SMOTE works best for this dataset. Now we run the module and pipeline the delayed aircraft rows to module 3."
      ]
    },
    {
      "cell_type": "code",
      "metadata": {
        "id": "biA2_QbELZ5B",
        "colab_type": "code",
        "outputId": "598ec16c-b326-4bcf-ebfc-56b1db1d4e9f",
        "colab": {
          "base_uri": "https://localhost:8080/",
          "height": 34
        }
      },
      "source": [
        "import pandas as pd\n",
        "import json\n",
        "from pandas.io.json import json_normalize  \n",
        "from google.colab import drive\n",
        "import datetime\n",
        "drive.mount('/content/gdrive/',force_remount = True)"
      ],
      "execution_count": 0,
      "outputs": [
        {
          "output_type": "stream",
          "text": [
            "Mounted at /content/gdrive/\n"
          ],
          "name": "stdout"
        }
      ]
    },
    {
      "cell_type": "code",
      "metadata": {
        "id": "vvhaYDqXMFkF",
        "colab_type": "code",
        "colab": {}
      },
      "source": [
        "import numpy as np\n",
        "from sklearn.model_selection import train_test_split\n",
        "from sklearn import metrics\n",
        "from sklearn.metrics import classification_report"
      ],
      "execution_count": 0,
      "outputs": []
    },
    {
      "cell_type": "code",
      "metadata": {
        "id": "IyRvLDE0MOyF",
        "colab_type": "code",
        "colab": {}
      },
      "source": [
        "df = pd.read_csv(\"gdrive/My Drive/Colab Notebooks/merged.csv\")"
      ],
      "execution_count": 0,
      "outputs": []
    },
    {
      "cell_type": "code",
      "metadata": {
        "id": "GEtL_LQeMSST",
        "colab_type": "code",
        "colab": {}
      },
      "source": [
        "# Categorical boolean mask\n",
        "categorical_feature_mask = df.dtypes==object# filter categorical columns using mask and turn it into a list\n",
        "categorical_cols = df.columns[categorical_feature_mask].tolist()\n",
        "\n",
        "# import labelencoder\n",
        "from sklearn.preprocessing import LabelEncoder# instantiate labelencoder object\n",
        "le = LabelEncoder()\n",
        "\n",
        "# apply le on categorical feature columns\n",
        "df[categorical_cols] = df[categorical_cols].apply(lambda col: le.fit_transform(col))"
      ],
      "execution_count": 0,
      "outputs": []
    },
    {
      "cell_type": "code",
      "metadata": {
        "id": "MjaYyifsMV2L",
        "colab_type": "code",
        "outputId": "4657ab80-48f8-4b3f-f98d-a6022abb10af",
        "colab": {
          "base_uri": "https://localhost:8080/",
          "height": 168
        }
      },
      "source": [
        "y = np.array(df['ArrDel15'])\n",
        "ry = np.array(df[['ArrTime','ArrDelayMinutes','CRSArrTime']])\n",
        "df = df.drop(['Unnamed: 0','ArrDel15','ArrTime','ArrDelayMinutes','CRSArrTime','round_Atime','round_Dtime', 'DepTime','A_date','itime_A','itime_D','FlightDate'],axis=1)\n",
        "X = np.array(df)\n",
        "\n",
        "X_train, X_test, y_train, y_test = train_test_split(X, y, test_size = 0.2, random_state = 42)\n",
        "\n",
        "df.columns"
      ],
      "execution_count": 0,
      "outputs": [
        {
          "output_type": "execute_result",
          "data": {
            "text/plain": [
              "Index(['windspeedKmph_A', 'DewPointC_A', 'cloudcover_A', 'precipMM_A',\n",
              "       'pressure_A', 'WindGustKmph_A', 'visibility_A', 'tempC_A',\n",
              "       'WindChillC_A', 'winddirDegree_A', 'humidity_A', 'date_A', 'airport_A',\n",
              "       'windspeedKmph_D', 'DewPointC_D', 'cloudcover_D', 'precipMM_D',\n",
              "       'pressure_D', 'WindGustKmph_D', 'visibility_D', 'tempC_D',\n",
              "       'WindChillC_D', 'winddirDegree_D', 'humidity_D', 'date_D', 'airport_D',\n",
              "       'Year', 'Quarter', 'Month', 'DayofMonth', 'Origin', 'Dest',\n",
              "       'CRSDepTime', 'DepDelayMinutes', 'DepDel15'],\n",
              "      dtype='object')"
            ]
          },
          "metadata": {
            "tags": []
          },
          "execution_count": 19
        }
      ]
    },
    {
      "cell_type": "code",
      "metadata": {
        "id": "KCtNML2VSfSk",
        "colab_type": "code",
        "outputId": "6a3cbc0c-ca97-41cf-e4d4-e903037f132b",
        "colab": {
          "base_uri": "https://localhost:8080/",
          "height": 34
        }
      },
      "source": [
        "print(y_test)"
      ],
      "execution_count": 0,
      "outputs": [
        {
          "output_type": "stream",
          "text": [
            "[0. 1. 1. ... 0. 0. 1.]\n"
          ],
          "name": "stdout"
        }
      ]
    },
    {
      "cell_type": "code",
      "metadata": {
        "id": "rZRjWXudPBMZ",
        "colab_type": "code",
        "outputId": "14d53654-e708-4c8d-8796-0e54fe57d5fe",
        "colab": {
          "base_uri": "https://localhost:8080/",
          "height": 70
        }
      },
      "source": [
        "from imblearn.over_sampling import SMOTE # SMOTE\n",
        "\n",
        "smote = SMOTE(ratio='minority')\n",
        "X_sm, y_sm = smote.fit_sample(X_train, y_train)"
      ],
      "execution_count": 0,
      "outputs": [
        {
          "output_type": "stream",
          "text": [
            "/usr/local/lib/python3.6/dist-packages/sklearn/utils/deprecation.py:87: FutureWarning: Function safe_indexing is deprecated; safe_indexing is deprecated in version 0.22 and will be removed in version 0.24.\n",
            "  warnings.warn(msg, category=FutureWarning)\n"
          ],
          "name": "stderr"
        }
      ]
    },
    {
      "cell_type": "code",
      "metadata": {
        "id": "u3w2xIiOPILb",
        "colab_type": "code",
        "outputId": "64e87a02-6db5-4a28-8d63-259788e790b8",
        "colab": {
          "base_uri": "https://localhost:8080/",
          "height": 168
        }
      },
      "source": [
        "from sklearn.ensemble import ExtraTreesClassifier\n",
        "\n",
        "clf = ExtraTreesClassifier(n_estimators=100, random_state=0)\n",
        "clf = clf.fit(X_sm, y_sm)\n",
        "predictions = clf.predict(X_test)\n",
        "print(classification_report(y_test, predictions))\n"
      ],
      "execution_count": 0,
      "outputs": [
        {
          "output_type": "stream",
          "text": [
            "              precision    recall  f1-score   support\n",
            "\n",
            "         0.0       0.94      0.94      0.94    281959\n",
            "         1.0       0.77      0.77      0.77     74219\n",
            "\n",
            "    accuracy                           0.90    356178\n",
            "   macro avg       0.85      0.85      0.85    356178\n",
            "weighted avg       0.90      0.90      0.90    356178\n",
            "\n"
          ],
          "name": "stdout"
        }
      ]
    },
    {
      "cell_type": "code",
      "metadata": {
        "id": "ke2vA1kJP2CS",
        "colab_type": "code",
        "colab": {}
      },
      "source": [
        "x_df = pd.DataFrame(data = X_test, columns = ['windspeedKmph_A', 'DewPointC_A', 'cloudcover_A', 'precipMM_A',\n",
        "       'pressure_A', 'WindGustKmph_A', 'visibility_A', 'tempC_A',\n",
        "       'WindChillC_A', 'winddirDegree_A', 'humidity_A', 'date_A', 'airport_A',\n",
        "       'windspeedKmph_D', 'DewPointC_D', 'cloudcover_D', 'precipMM_D',\n",
        "       'pressure_D', 'WindGustKmph_D', 'visibility_D', 'tempC_D',\n",
        "       'WindChillC_D', 'winddirDegree_D', 'humidity_D', 'date_D', 'airport_D',\n",
        "       'Year', 'Quarter', 'Month', 'DayofMonth', 'Origin', 'Dest',\n",
        "       'CRSDepTime', 'DepDelayMinutes', 'DepDel15'])\n",
        "\n",
        "ry_df = pd.DataFrame(data = ry, columns = ['ArrTime','ArrDelayMinutes','CRSArrTime'])\n",
        "pred_df = pd.DataFrame(data = predictions, columns = ['predicted'])\n",
        "pred_df = pred_df.merge(x_df, left_index=True, right_index=True)\n",
        "pred_df = pred_df.merge(ry_df, left_index=True, right_index=True)"
      ],
      "execution_count": 0,
      "outputs": []
    },
    {
      "cell_type": "code",
      "metadata": {
        "id": "lI8RJzQIRHNd",
        "colab_type": "code",
        "colab": {}
      },
      "source": [
        "pred_df = pred_df[pred_df.predicted != 0.0]"
      ],
      "execution_count": 0,
      "outputs": []
    },
    {
      "cell_type": "code",
      "metadata": {
        "id": "-4YuwpMMsd3S",
        "colab_type": "code",
        "outputId": "d1252e24-0c29-4da9-e3bc-afe00021b652",
        "colab": {
          "base_uri": "https://localhost:8080/",
          "height": 215
        }
      },
      "source": [
        "pred_df.head()"
      ],
      "execution_count": 0,
      "outputs": [
        {
          "output_type": "execute_result",
          "data": {
            "text/html": [
              "<div>\n",
              "<style scoped>\n",
              "    .dataframe tbody tr th:only-of-type {\n",
              "        vertical-align: middle;\n",
              "    }\n",
              "\n",
              "    .dataframe tbody tr th {\n",
              "        vertical-align: top;\n",
              "    }\n",
              "\n",
              "    .dataframe thead th {\n",
              "        text-align: right;\n",
              "    }\n",
              "</style>\n",
              "<table border=\"1\" class=\"dataframe\">\n",
              "  <thead>\n",
              "    <tr style=\"text-align: right;\">\n",
              "      <th></th>\n",
              "      <th>predicted</th>\n",
              "      <th>windspeedKmph_A</th>\n",
              "      <th>DewPointC_A</th>\n",
              "      <th>cloudcover_A</th>\n",
              "      <th>precipMM_A</th>\n",
              "      <th>pressure_A</th>\n",
              "      <th>WindGustKmph_A</th>\n",
              "      <th>visibility_A</th>\n",
              "      <th>tempC_A</th>\n",
              "      <th>WindChillC_A</th>\n",
              "      <th>winddirDegree_A</th>\n",
              "      <th>humidity_A</th>\n",
              "      <th>date_A</th>\n",
              "      <th>airport_A</th>\n",
              "      <th>windspeedKmph_D</th>\n",
              "      <th>DewPointC_D</th>\n",
              "      <th>cloudcover_D</th>\n",
              "      <th>precipMM_D</th>\n",
              "      <th>pressure_D</th>\n",
              "      <th>WindGustKmph_D</th>\n",
              "      <th>visibility_D</th>\n",
              "      <th>tempC_D</th>\n",
              "      <th>WindChillC_D</th>\n",
              "      <th>winddirDegree_D</th>\n",
              "      <th>humidity_D</th>\n",
              "      <th>date_D</th>\n",
              "      <th>airport_D</th>\n",
              "      <th>Year</th>\n",
              "      <th>Quarter</th>\n",
              "      <th>Month</th>\n",
              "      <th>DayofMonth</th>\n",
              "      <th>Origin</th>\n",
              "      <th>Dest</th>\n",
              "      <th>CRSDepTime</th>\n",
              "      <th>DepDelayMinutes</th>\n",
              "      <th>DepDel15</th>\n",
              "      <th>ArrTime</th>\n",
              "      <th>ArrDelayMinutes</th>\n",
              "      <th>CRSArrTime</th>\n",
              "    </tr>\n",
              "  </thead>\n",
              "  <tbody>\n",
              "    <tr>\n",
              "      <th>1</th>\n",
              "      <td>1.0</td>\n",
              "      <td>7.0</td>\n",
              "      <td>17.0</td>\n",
              "      <td>83.0</td>\n",
              "      <td>2.0</td>\n",
              "      <td>1019.0</td>\n",
              "      <td>13.0</td>\n",
              "      <td>9.0</td>\n",
              "      <td>21.0</td>\n",
              "      <td>21.0</td>\n",
              "      <td>155.0</td>\n",
              "      <td>80.0</td>\n",
              "      <td>72.0</td>\n",
              "      <td>9.0</td>\n",
              "      <td>10.0</td>\n",
              "      <td>6.0</td>\n",
              "      <td>100.0</td>\n",
              "      <td>0.7</td>\n",
              "      <td>1005.0</td>\n",
              "      <td>16.0</td>\n",
              "      <td>3.0</td>\n",
              "      <td>6.0</td>\n",
              "      <td>4.0</td>\n",
              "      <td>63.0</td>\n",
              "      <td>97.0</td>\n",
              "      <td>72.0</td>\n",
              "      <td>11.0</td>\n",
              "      <td>2016.0</td>\n",
              "      <td>1.0</td>\n",
              "      <td>3.0</td>\n",
              "      <td>13.0</td>\n",
              "      <td>11.0</td>\n",
              "      <td>9.0</td>\n",
              "      <td>2105.0</td>\n",
              "      <td>27.0</td>\n",
              "      <td>1.0</td>\n",
              "      <td>24.0</td>\n",
              "      <td>0.0</td>\n",
              "      <td>27.0</td>\n",
              "    </tr>\n",
              "    <tr>\n",
              "      <th>2</th>\n",
              "      <td>1.0</td>\n",
              "      <td>13.0</td>\n",
              "      <td>7.0</td>\n",
              "      <td>34.0</td>\n",
              "      <td>0.1</td>\n",
              "      <td>1008.0</td>\n",
              "      <td>19.0</td>\n",
              "      <td>10.0</td>\n",
              "      <td>28.0</td>\n",
              "      <td>28.0</td>\n",
              "      <td>140.0</td>\n",
              "      <td>29.0</td>\n",
              "      <td>233.0</td>\n",
              "      <td>2.0</td>\n",
              "      <td>19.0</td>\n",
              "      <td>13.0</td>\n",
              "      <td>0.0</td>\n",
              "      <td>0.0</td>\n",
              "      <td>1012.0</td>\n",
              "      <td>24.0</td>\n",
              "      <td>10.0</td>\n",
              "      <td>21.0</td>\n",
              "      <td>21.0</td>\n",
              "      <td>274.0</td>\n",
              "      <td>55.0</td>\n",
              "      <td>233.0</td>\n",
              "      <td>11.0</td>\n",
              "      <td>2016.0</td>\n",
              "      <td>3.0</td>\n",
              "      <td>8.0</td>\n",
              "      <td>21.0</td>\n",
              "      <td>11.0</td>\n",
              "      <td>2.0</td>\n",
              "      <td>1720.0</td>\n",
              "      <td>64.0</td>\n",
              "      <td>1.0</td>\n",
              "      <td>2357.0</td>\n",
              "      <td>0.0</td>\n",
              "      <td>1.0</td>\n",
              "    </tr>\n",
              "    <tr>\n",
              "      <th>5</th>\n",
              "      <td>1.0</td>\n",
              "      <td>5.0</td>\n",
              "      <td>23.0</td>\n",
              "      <td>67.0</td>\n",
              "      <td>0.0</td>\n",
              "      <td>1014.0</td>\n",
              "      <td>8.0</td>\n",
              "      <td>3.0</td>\n",
              "      <td>24.0</td>\n",
              "      <td>24.0</td>\n",
              "      <td>118.0</td>\n",
              "      <td>96.0</td>\n",
              "      <td>161.0</td>\n",
              "      <td>5.0</td>\n",
              "      <td>10.0</td>\n",
              "      <td>17.0</td>\n",
              "      <td>75.0</td>\n",
              "      <td>0.1</td>\n",
              "      <td>1012.0</td>\n",
              "      <td>11.0</td>\n",
              "      <td>10.0</td>\n",
              "      <td>20.0</td>\n",
              "      <td>19.0</td>\n",
              "      <td>210.0</td>\n",
              "      <td>85.0</td>\n",
              "      <td>161.0</td>\n",
              "      <td>8.0</td>\n",
              "      <td>2016.0</td>\n",
              "      <td>2.0</td>\n",
              "      <td>6.0</td>\n",
              "      <td>10.0</td>\n",
              "      <td>8.0</td>\n",
              "      <td>5.0</td>\n",
              "      <td>1855.0</td>\n",
              "      <td>15.0</td>\n",
              "      <td>1.0</td>\n",
              "      <td>122.0</td>\n",
              "      <td>22.0</td>\n",
              "      <td>100.0</td>\n",
              "    </tr>\n",
              "    <tr>\n",
              "      <th>13</th>\n",
              "      <td>1.0</td>\n",
              "      <td>12.0</td>\n",
              "      <td>22.0</td>\n",
              "      <td>0.0</td>\n",
              "      <td>0.0</td>\n",
              "      <td>1016.0</td>\n",
              "      <td>15.0</td>\n",
              "      <td>10.0</td>\n",
              "      <td>31.0</td>\n",
              "      <td>31.0</td>\n",
              "      <td>224.0</td>\n",
              "      <td>59.0</td>\n",
              "      <td>576.0</td>\n",
              "      <td>8.0</td>\n",
              "      <td>8.0</td>\n",
              "      <td>17.0</td>\n",
              "      <td>0.0</td>\n",
              "      <td>0.0</td>\n",
              "      <td>1017.0</td>\n",
              "      <td>10.0</td>\n",
              "      <td>10.0</td>\n",
              "      <td>28.0</td>\n",
              "      <td>28.0</td>\n",
              "      <td>246.0</td>\n",
              "      <td>52.0</td>\n",
              "      <td>576.0</td>\n",
              "      <td>14.0</td>\n",
              "      <td>2017.0</td>\n",
              "      <td>3.0</td>\n",
              "      <td>7.0</td>\n",
              "      <td>30.0</td>\n",
              "      <td>14.0</td>\n",
              "      <td>8.0</td>\n",
              "      <td>1145.0</td>\n",
              "      <td>35.0</td>\n",
              "      <td>1.0</td>\n",
              "      <td>717.0</td>\n",
              "      <td>0.0</td>\n",
              "      <td>728.0</td>\n",
              "    </tr>\n",
              "    <tr>\n",
              "      <th>16</th>\n",
              "      <td>1.0</td>\n",
              "      <td>14.0</td>\n",
              "      <td>15.0</td>\n",
              "      <td>79.0</td>\n",
              "      <td>0.1</td>\n",
              "      <td>1015.0</td>\n",
              "      <td>16.0</td>\n",
              "      <td>6.0</td>\n",
              "      <td>20.0</td>\n",
              "      <td>18.0</td>\n",
              "      <td>237.0</td>\n",
              "      <td>83.0</td>\n",
              "      <td>133.0</td>\n",
              "      <td>8.0</td>\n",
              "      <td>17.0</td>\n",
              "      <td>-2.0</td>\n",
              "      <td>0.0</td>\n",
              "      <td>0.0</td>\n",
              "      <td>1011.0</td>\n",
              "      <td>20.0</td>\n",
              "      <td>10.0</td>\n",
              "      <td>34.0</td>\n",
              "      <td>33.0</td>\n",
              "      <td>160.0</td>\n",
              "      <td>11.0</td>\n",
              "      <td>133.0</td>\n",
              "      <td>7.0</td>\n",
              "      <td>2016.0</td>\n",
              "      <td>2.0</td>\n",
              "      <td>5.0</td>\n",
              "      <td>13.0</td>\n",
              "      <td>7.0</td>\n",
              "      <td>8.0</td>\n",
              "      <td>1509.0</td>\n",
              "      <td>78.0</td>\n",
              "      <td>1.0</td>\n",
              "      <td>853.0</td>\n",
              "      <td>6.0</td>\n",
              "      <td>847.0</td>\n",
              "    </tr>\n",
              "  </tbody>\n",
              "</table>\n",
              "</div>"
            ],
            "text/plain": [
              "    predicted  windspeedKmph_A  ...  ArrDelayMinutes  CRSArrTime\n",
              "1         1.0              7.0  ...              0.0        27.0\n",
              "2         1.0             13.0  ...              0.0         1.0\n",
              "5         1.0              5.0  ...             22.0       100.0\n",
              "13        1.0             12.0  ...              0.0       728.0\n",
              "16        1.0             14.0  ...              6.0       847.0\n",
              "\n",
              "[5 rows x 39 columns]"
            ]
          },
          "metadata": {
            "tags": []
          },
          "execution_count": 25
        }
      ]
    },
    {
      "cell_type": "code",
      "metadata": {
        "id": "0oaFSnzcTaF7",
        "colab_type": "code",
        "colab": {}
      },
      "source": [
        "pred_df.to_csv(\"pred.csv\")\n",
        "!cp pred.csv \"gdrive/My Drive/Colab Notebooks/\""
      ],
      "execution_count": 0,
      "outputs": []
    },
    {
      "cell_type": "code",
      "metadata": {
        "id": "U6lXHJ5XwEi8",
        "colab_type": "code",
        "colab": {}
      },
      "source": [
        ""
      ],
      "execution_count": 0,
      "outputs": []
    }
  ]
}