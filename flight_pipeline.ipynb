{
  "nbformat": 4,
  "nbformat_minor": 0,
  "metadata": {
    "colab": {
      "name": "Flight_pipeline.ipynb",
      "provenance": [],
      "authorship_tag": "ABX9TyPiWiHJsJwFmarVntJpcXaP"
    },
    "kernelspec": {
      "name": "python3",
      "display_name": "Python 3"
    }
  },
  "cells": [
    {
      "cell_type": "code",
      "metadata": {
        "id": "xs-lsitR8z-n",
        "colab_type": "code",
        "outputId": "8e2fd0bb-a85e-4e4d-e26e-da38ee2be673",
        "colab": {
          "base_uri": "https://localhost:8080/",
          "height": 124
        }
      },
      "source": [
        "import pandas as pd\n",
        "from google.colab import drive\n",
        "drive.mount('/content/gdrive/',force_remount = True)\n",
        "import numpy as np\n",
        "from sklearn.model_selection import train_test_split\n",
        "from sklearn import metrics"
      ],
      "execution_count": 0,
      "outputs": [
        {
          "output_type": "stream",
          "text": [
            "Go to this URL in a browser: https://accounts.google.com/o/oauth2/auth?client_id=947318989803-6bn6qk8qdgf4n4g3pfee6491hc0brc4i.apps.googleusercontent.com&redirect_uri=urn%3aietf%3awg%3aoauth%3a2.0%3aoob&response_type=code&scope=email%20https%3a%2f%2fwww.googleapis.com%2fauth%2fdocs.test%20https%3a%2f%2fwww.googleapis.com%2fauth%2fdrive%20https%3a%2f%2fwww.googleapis.com%2fauth%2fdrive.photos.readonly%20https%3a%2f%2fwww.googleapis.com%2fauth%2fpeopleapi.readonly\n",
            "\n",
            "Enter your authorization code:\n",
            "··········\n",
            "Mounted at /content/gdrive/\n"
          ],
          "name": "stdout"
        }
      ]
    },
    {
      "cell_type": "code",
      "metadata": {
        "id": "IQgxcmya9KMW",
        "colab_type": "code",
        "colab": {}
      },
      "source": [
        "df = pd.read_csv(\"gdrive/My Drive/Colab Notebooks/merged.csv\")\n",
        "\n",
        "categorical_feature_mask = df.dtypes==object# filter categorical columns using mask and turn it into a list\n",
        "categorical_cols = df.columns[categorical_feature_mask].tolist()\n",
        "\n",
        "# import labelencoder\n",
        "from sklearn.preprocessing import LabelEncoder# instantiate labelencoder object\n",
        "le = LabelEncoder()\n",
        "\n",
        "# apply le on categorical feature columns\n",
        "df[categorical_cols] = df[categorical_cols].apply(lambda col: le.fit_transform(col))\n"
      ],
      "execution_count": 0,
      "outputs": []
    },
    {
      "cell_type": "code",
      "metadata": {
        "id": "ib6hb8F_GpDq",
        "colab_type": "code",
        "outputId": "7c4c28ee-0537-4f66-fc39-0b887878bcf0",
        "colab": {
          "base_uri": "https://localhost:8080/",
          "height": 298
        }
      },
      "source": [
        "import matplotlib.pyplot as plt\n",
        "df.hist(column='ArrDel15')\n",
        "\n",
        "df[df.ArrDel15 == 1].count()\n",
        "df.count()[0]"
      ],
      "execution_count": 0,
      "outputs": [
        {
          "output_type": "execute_result",
          "data": {
            "text/plain": [
              "1780890"
            ]
          },
          "metadata": {
            "tags": []
          },
          "execution_count": 174
        },
        {
          "output_type": "display_data",
          "data": {
            "image/png": "[encoded data removed]",
            "text/plain": [
              "<Figure size 432x288 with 1 Axes>"
            ]
          },
          "metadata": {
            "tags": []
          }
        }
      ]
    },
    {
      "cell_type": "code",
      "metadata": {
        "id": "9vdJz8QvCCVw",
        "colab_type": "code",
        "outputId": "abe176b9-6da6-4808-9195-1b93857e0f87",
        "colab": {
          "base_uri": "https://localhost:8080/",
          "height": 50
        }
      },
      "source": [
        "from sklearn.utils import shuffle\n",
        "df = shuffle(df)\n",
        "\n",
        "df_train_classifier =  df[:1424712] \n",
        "\n",
        "df_train_regressor =   df[:1424712]\n",
        "df_train_regressor = df_train_regressor[df_train_regressor.ArrDel15 != 0.0]\n",
        "\n",
        "df_test = df[1424712:]\n",
        "\n",
        "print(df[df.ArrDel15 == 1].count()[0],df.count()[0])\n",
        "print(len(df_train_regressor),len(df_train_classifier))"
      ],
      "execution_count": 0,
      "outputs": [
        {
          "output_type": "stream",
          "text": [
            "370611 1780890\n",
            "295927 1424712\n"
          ],
          "name": "stdout"
        }
      ]
    },
    {
      "cell_type": "code",
      "metadata": {
        "id": "Aw2--HAGsifw",
        "colab_type": "code",
        "outputId": "7456a477-8406-4859-de88-bfb7d4752e26",
        "colab": {
          "base_uri": "https://localhost:8080/",
          "height": 34
        }
      },
      "source": [
        "y_trainc = np.array(df_train_classifier['ArrDel15'])\n",
        "df_train_classifier = df_train_classifier.drop(['Unnamed: 0','ArrDel15','ArrTime','ArrDelayMinutes','CRSArrTime','round_Atime','round_Dtime', 'DepTime','A_date','DepDel15','date_A','date_D'],axis=1)\n",
        "X_trainc = np.array(df_train_classifier)\n",
        "\n",
        "len(y_trainc)"
      ],
      "execution_count": 0,
      "outputs": [
        {
          "output_type": "execute_result",
          "data": {
            "text/plain": [
              "1424712"
            ]
          },
          "metadata": {
            "tags": []
          },
          "execution_count": 136
        }
      ]
    },
    {
      "cell_type": "code",
      "metadata": {
        "id": "T45wvgQXt8_B",
        "colab_type": "code",
        "colab": {}
      },
      "source": [
        "y_trainr = np.array(df_train_regressor['ArrDelayMinutes'])\n",
        "df_train_regressor = df_train_regressor.drop(['Unnamed: 0','ArrDel15','ArrTime','ArrDelayMinutes','CRSArrTime','round_Atime','round_Dtime', 'DepTime','A_date','DepDel15','date_A','date_D'],axis=1)\n",
        "X_trainr = np.array(df_train_regressor)"
      ],
      "execution_count": 0,
      "outputs": []
    },
    {
      "cell_type": "code",
      "metadata": {
        "id": "dZ9Ksw8Tv6tV",
        "colab_type": "code",
        "colab": {}
      },
      "source": [
        "y_testr = np.array(df_test['ArrDelayMinutes'])\n",
        "y_testc = np.array(df_test['ArrDel15'])\n",
        "df_test = df_test.drop(['Unnamed: 0','ArrDel15','ArrTime','ArrDelayMinutes','CRSArrTime','round_Atime','round_Dtime', 'DepTime','A_date','DepDel15','date_A','date_D'],axis=1)\n",
        "X_test = np.array(df_test)"
      ],
      "execution_count": 0,
      "outputs": []
    },
    {
      "cell_type": "code",
      "metadata": {
        "id": "h-YTc6gGJiLI",
        "colab_type": "code",
        "colab": {}
      },
      "source": [
        "from sklearn.ensemble import ExtraTreesClassifier\n",
        "\n",
        "clf = ExtraTreesClassifier(n_estimators=100, random_state=0)\n",
        "clf = clf.fit(X_trainc, y_trainc)\n",
        "predictions = clf.predict(X_test)\n",
        "print(classification_report(y_testc, predictions))\n"
      ],
      "execution_count": 0,
      "outputs": []
    },
    {
      "cell_type": "code",
      "metadata": {
        "id": "Eu1zDila_jy7",
        "colab_type": "code",
        "colab": {}
      },
      "source": [
        "from sklearn.ensemble import GradientBoostingClassifier\n",
        "\n",
        "clf = GradientBoostingClassifier()\n",
        "clf = clf.fit(X_trainc, y_trainc)"
      ],
      "execution_count": 0,
      "outputs": []
    },
    {
      "cell_type": "code",
      "metadata": {
        "id": "RhesEBML5_CN",
        "colab_type": "code",
        "outputId": "351cc2bd-9dc6-4047-bdd2-94f556dd9b12",
        "colab": {
          "base_uri": "https://localhost:8080/",
          "height": 168
        }
      },
      "source": [
        "y_predc = clf.predict(X_test)\n",
        "\n",
        "from sklearn.metrics import classification_report\n",
        "print(classification_report(y_testc, y_predc))"
      ],
      "execution_count": 0,
      "outputs": [
        {
          "output_type": "stream",
          "text": [
            "              precision    recall  f1-score   support\n",
            "\n",
            "         0.0       0.92      0.98      0.95    281494\n",
            "         1.0       0.90      0.69      0.78     74684\n",
            "\n",
            "    accuracy                           0.92    356178\n",
            "   macro avg       0.91      0.83      0.86    356178\n",
            "weighted avg       0.92      0.92      0.91    356178\n",
            "\n"
          ],
          "name": "stdout"
        }
      ]
    },
    {
      "cell_type": "code",
      "metadata": {
        "id": "Wy30pacxuLuo",
        "colab_type": "code",
        "outputId": "67330b6c-a9e3-4ca8-912a-92a2e3b46e84",
        "colab": {
          "base_uri": "https://localhost:8080/",
          "height": 139
        }
      },
      "source": [
        "from sklearn.ensemble import ExtraTreesRegressor\n",
        "\n",
        "rgr = ExtraTreesRegressor(n_estimators=100, random_state=0)\n",
        "rgr.fit(X_trainr, y_trainr)"
      ],
      "execution_count": 0,
      "outputs": [
        {
          "output_type": "execute_result",
          "data": {
            "text/plain": [
              "ExtraTreesRegressor(bootstrap=False, ccp_alpha=0.0, criterion='mse',\n",
              "                    max_depth=None, max_features='auto', max_leaf_nodes=None,\n",
              "                    max_samples=None, min_impurity_decrease=0.0,\n",
              "                    min_impurity_split=None, min_samples_leaf=1,\n",
              "                    min_samples_split=2, min_weight_fraction_leaf=0.0,\n",
              "                    n_estimators=100, n_jobs=None, oob_score=False,\n",
              "                    random_state=0, verbose=0, warm_start=False)"
            ]
          },
          "metadata": {
            "tags": []
          },
          "execution_count": 43
        }
      ]
    },
    {
      "cell_type": "code",
      "metadata": {
        "id": "wPIu9Gi9zPZV",
        "colab_type": "code",
        "outputId": "06f95635-6b0a-48dc-e537-99e360753184",
        "colab": {
          "base_uri": "https://localhost:8080/",
          "height": 101
        }
      },
      "source": [
        "print(len(y_predc))\n",
        "print(len(y_testc))\n",
        "print(len(X_test))\n",
        "\n",
        "print(np.sum(y_predc),np.sum(y_testc))\n",
        "np.count_nonzero(y_predc)\n",
        "nonzeropred =  y_predc.nonzero()[0]\n",
        "print(nonzeropred, nonzeropred.shape)"
      ],
      "execution_count": 0,
      "outputs": [
        {
          "output_type": "stream",
          "text": [
            "356178\n",
            "356178\n",
            "356178\n",
            "57177.0 74684.0\n",
            "[     2      8     11 ... 356133 356149 356150] (57177,)\n"
          ],
          "name": "stdout"
        }
      ]
    },
    {
      "cell_type": "code",
      "metadata": {
        "id": "QsfEtbjQ14zx",
        "colab_type": "code",
        "colab": {}
      },
      "source": [
        "X_test  =  np.delete(X_test ,np.where( y_predc < 1)[0],axis=0)\n",
        "y_testr =  np.delete(y_testr,np.where( y_predc < 1)[0],axis=0)"
      ],
      "execution_count": 0,
      "outputs": []
    },
    {
      "cell_type": "code",
      "metadata": {
        "id": "SmVLrw9Z3pi0",
        "colab_type": "code",
        "outputId": "641f6ef4-64a8-49a1-8a4c-50db54c6fb91",
        "colab": {
          "base_uri": "https://localhost:8080/",
          "height": 101
        }
      },
      "source": [
        "print(len(y_testr))\n",
        "print(len(X_test))\n",
        "print(len(y_predc))\n",
        "print(len(y_predc.nonzero()[0]))\n",
        "np.count_nonzero(y_predc)\n",
        "X_test.shape,y_testr.shape"
      ],
      "execution_count": 0,
      "outputs": [
        {
          "output_type": "stream",
          "text": [
            "57177\n",
            "57177\n",
            "356178\n",
            "57177\n"
          ],
          "name": "stdout"
        },
        {
          "output_type": "execute_result",
          "data": {
            "text/plain": [
              "((57177, 35), (57177,))"
            ]
          },
          "metadata": {
            "tags": []
          },
          "execution_count": 180
        }
      ]
    },
    {
      "cell_type": "code",
      "metadata": {
        "colab_type": "code",
        "id": "KZgvduScIbEL",
        "colab": {}
      },
      "source": [
        "X_test  =  np.delete(X_test , y_predc.nonzero()[0],axis=0)\n",
        "y_testr =  np.delete(y_testr, np.where(y_predc != 0),axis=0)\n",
        "y_predc =  np.delete(y_predc, np.where(y_predc != 0),axis=0)"
      ],
      "execution_count": 0,
      "outputs": []
    },
    {
      "cell_type": "code",
      "metadata": {
        "id": "4eXHgcmt4B2y",
        "colab_type": "code",
        "colab": {}
      },
      "source": [
        "from sklearn import metrics"
      ],
      "execution_count": 0,
      "outputs": []
    },
    {
      "cell_type": "code",
      "metadata": {
        "id": "dtyH1VWE3uui",
        "colab_type": "code",
        "outputId": "7e1cd800-39da-4301-9272-4add30871d68",
        "colab": {
          "base_uri": "https://localhost:8080/",
          "height": 67
        }
      },
      "source": [
        "y_predr = rgr.predict(X_test)\n",
        "print('Mean Absolute Error:', metrics.mean_absolute_error(y_testr, y_predr))  \n",
        "print('Mean Squared Error:', metrics.mean_squared_error(y_testr, y_predr))  \n",
        "print('Root Mean Squared Error:', np.sqrt(metrics.mean_squared_error(y_testr, y_predr)))"
      ],
      "execution_count": 0,
      "outputs": [
        {
          "output_type": "stream",
          "text": [
            "Mean Absolute Error: 4.69925631518501\n",
            "Mean Squared Error: 118.04522929154692\n",
            "Root Mean Squared Error: 10.86486213863512\n"
          ],
          "name": "stdout"
        }
      ]
    },
    {
      "cell_type": "code",
      "metadata": {
        "id": "1Tm5HHM_9prY",
        "colab_type": "code",
        "colab": {}
      },
      "source": [
        ""
      ],
      "execution_count": 0,
      "outputs": []
    }
  ]
}
